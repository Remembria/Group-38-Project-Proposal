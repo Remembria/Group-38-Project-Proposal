{
 "cells": [
  {
   "cell_type": "markdown",
   "id": "4ab20575-b166-4c12-ab80-1ed18587a97b",
   "metadata": {},
   "source": [
    "<h1>Group 38 Project Proposal: Determining the Connection Between Country Wealth and Tuberculosis Mortality <h1>\n",
    "    \n",
    "<img src=\"images/TB_img.jpg\" alt=\"Tuberculosis under EM Microscope\" width = \"1000\"/>\n",
    "    \n",
    "<font size=\"2\"> <i>image attribution</i>: NIAID Mycobacterium tuberculosis Bacteria, the Cause of TB, CC BY 2.0 <https://creativecommons.org/licenses/by/4.0>, via Flickr at <https://www.flickr.com/photos/niaid/51637606937/in/photostream/> </font>"
   ]
  },
  {
   "cell_type": "markdown",
   "id": "d74482ba-2b36-44c4-9f24-6c5b81ebd32d",
   "metadata": {},
   "source": [
    "<h3>Introduction</h3>\n",
    "<hr>"
   ]
  },
  {
   "cell_type": "markdown",
   "id": "d5d9ad27-4edf-4b15-ab5d-84014bd8e9c7",
   "metadata": {},
   "source": [
    "*Total Word Count:* ---"
   ]
  },
  {
   "cell_type": "markdown",
   "id": "696bf996-d75b-43ea-a536-8dd9f9577b5a",
   "metadata": {},
   "source": []
  },
  {
   "cell_type": "markdown",
   "id": "754dfec3-f7ec-47eb-8ffe-c77626386fd0",
   "metadata": {},
   "source": [
    "<h3>Preliminary Results</h3>\n",
    "<hr>"
   ]
  },
  {
   "cell_type": "code",
   "execution_count": 1,
   "id": "fa034e23-9fd5-46be-bd05-ec73665e4456",
   "metadata": {},
   "outputs": [
    {
     "name": "stderr",
     "output_type": "stream",
     "text": [
      "── \u001b[1mAttaching packages\u001b[22m ─────────────────────────────────────── tidyverse 1.3.2 ──\n",
      "\u001b[32m✔\u001b[39m \u001b[34mggplot2\u001b[39m 3.3.6      \u001b[32m✔\u001b[39m \u001b[34mpurrr  \u001b[39m 0.3.4 \n",
      "\u001b[32m✔\u001b[39m \u001b[34mtibble \u001b[39m 3.1.8      \u001b[32m✔\u001b[39m \u001b[34mdplyr  \u001b[39m 1.0.10\n",
      "\u001b[32m✔\u001b[39m \u001b[34mtidyr  \u001b[39m 1.2.1      \u001b[32m✔\u001b[39m \u001b[34mstringr\u001b[39m 1.4.1 \n",
      "\u001b[32m✔\u001b[39m \u001b[34mreadr  \u001b[39m 2.1.2      \u001b[32m✔\u001b[39m \u001b[34mforcats\u001b[39m 0.5.2 \n",
      "── \u001b[1mConflicts\u001b[22m ────────────────────────────────────────── tidyverse_conflicts() ──\n",
      "\u001b[31m✖\u001b[39m \u001b[34mdplyr\u001b[39m::\u001b[32mfilter()\u001b[39m masks \u001b[34mstats\u001b[39m::filter()\n",
      "\u001b[31m✖\u001b[39m \u001b[34mdplyr\u001b[39m::\u001b[32mlag()\u001b[39m    masks \u001b[34mstats\u001b[39m::lag()\n",
      "\n",
      "Attaching package: ‘gridExtra’\n",
      "\n",
      "\n",
      "The following object is masked from ‘package:dplyr’:\n",
      "\n",
      "    combine\n",
      "\n",
      "\n"
     ]
    }
   ],
   "source": [
    "library(tidyverse)\n",
    "library(broom)\n",
    "library(repr)\n",
    "library(digest)\n",
    "library(infer)\n",
    "library(gridExtra)\n",
    "options(repr.matrix.max.rows = 6)\n",
    "options(repr.matrix.max.cols = 6)"
   ]
  },
  {
   "cell_type": "markdown",
   "id": "576508c5-e0d4-47ab-b479-abeb0bf4a106",
   "metadata": {},
   "source": [
    "For this investigation, we use two datasets: the **World Health Orginization (WHO)** Tuberculosis Mortality dataset, and the **OECD** GDP by country dataset.\n",
    "\n",
    "We begin with the **WHO** dataset, which we'll wrangle into tidy data before encorperating the **OECD** GDP data."
   ]
  },
  {
   "cell_type": "code",
   "execution_count": 2,
   "id": "2419291f-f800-4e44-ab4d-5074f088b1a5",
   "metadata": {},
   "outputs": [
    {
     "data": {
      "text/html": [
       "<table class=\"dataframe\">\n",
       "<caption>A data.frame: 436 × 22</caption>\n",
       "<thead>\n",
       "\t<tr><th scope=col>GHO..CODE.</th><th scope=col>GHO..DISPLAY.</th><th scope=col>GHO..URL.</th><th scope=col>⋯</th><th scope=col>StdErr</th><th scope=col>StdDev</th><th scope=col>Comments</th></tr>\n",
       "\t<tr><th scope=col>&lt;chr&gt;</th><th scope=col>&lt;chr&gt;</th><th scope=col>&lt;chr&gt;</th><th scope=col>⋯</th><th scope=col>&lt;lgl&gt;</th><th scope=col>&lt;lgl&gt;</th><th scope=col>&lt;lgl&gt;</th></tr>\n",
       "</thead>\n",
       "<tbody>\n",
       "\t<tr><td>TB_e_mort_exc_tbhiv_num</td><td>Number of deaths due to tuberculosis, excluding HIV</td><td>https://www.who.int/data/gho/indicator-metadata-registry/imr-details/1425</td><td>⋯</td><td>NA</td><td>NA</td><td>NA</td></tr>\n",
       "\t<tr><td>TB_e_mort_exc_tbhiv_num</td><td>Number of deaths due to tuberculosis, excluding HIV</td><td>https://www.who.int/data/gho/indicator-metadata-registry/imr-details/1425</td><td>⋯</td><td>NA</td><td>NA</td><td>NA</td></tr>\n",
       "\t<tr><td>TB_e_mort_exc_tbhiv_num</td><td>Number of deaths due to tuberculosis, excluding HIV</td><td>https://www.who.int/data/gho/indicator-metadata-registry/imr-details/1425</td><td>⋯</td><td>NA</td><td>NA</td><td>NA</td></tr>\n",
       "\t<tr><td>⋮</td><td>⋮</td><td>⋮</td><td>⋱</td><td>⋮</td><td>⋮</td><td>⋮</td></tr>\n",
       "\t<tr><td>MDG_0000000017</td><td>Deaths due to tuberculosis among HIV-negative people (per 100 000 population)</td><td>https://www.who.int/data/gho/indicator-metadata-registry/imr-details/17</td><td>⋯</td><td>NA</td><td>NA</td><td>NA</td></tr>\n",
       "\t<tr><td>MDG_0000000017</td><td>Deaths due to tuberculosis among HIV-negative people (per 100 000 population)</td><td>https://www.who.int/data/gho/indicator-metadata-registry/imr-details/17</td><td>⋯</td><td>NA</td><td>NA</td><td>NA</td></tr>\n",
       "\t<tr><td>MDG_0000000017</td><td>Deaths due to tuberculosis among HIV-negative people (per 100 000 population)</td><td>https://www.who.int/data/gho/indicator-metadata-registry/imr-details/17</td><td>⋯</td><td>NA</td><td>NA</td><td>NA</td></tr>\n",
       "</tbody>\n",
       "</table>\n"
      ],
      "text/latex": [
       "A data.frame: 436 × 22\n",
       "\\begin{tabular}{lllllll}\n",
       " GHO..CODE. & GHO..DISPLAY. & GHO..URL. & ⋯ & StdErr & StdDev & Comments\\\\\n",
       " <chr> & <chr> & <chr> & ⋯ & <lgl> & <lgl> & <lgl>\\\\\n",
       "\\hline\n",
       "\t TB\\_e\\_mort\\_exc\\_tbhiv\\_num & Number of deaths due to tuberculosis, excluding HIV & https://www.who.int/data/gho/indicator-metadata-registry/imr-details/1425 & ⋯ & NA & NA & NA\\\\\n",
       "\t TB\\_e\\_mort\\_exc\\_tbhiv\\_num & Number of deaths due to tuberculosis, excluding HIV & https://www.who.int/data/gho/indicator-metadata-registry/imr-details/1425 & ⋯ & NA & NA & NA\\\\\n",
       "\t TB\\_e\\_mort\\_exc\\_tbhiv\\_num & Number of deaths due to tuberculosis, excluding HIV & https://www.who.int/data/gho/indicator-metadata-registry/imr-details/1425 & ⋯ & NA & NA & NA\\\\\n",
       "\t ⋮ & ⋮ & ⋮ & ⋱ & ⋮ & ⋮ & ⋮\\\\\n",
       "\t MDG\\_0000000017 & Deaths due to tuberculosis among HIV-negative people (per 100 000 population) & https://www.who.int/data/gho/indicator-metadata-registry/imr-details/17 & ⋯ & NA & NA & NA\\\\\n",
       "\t MDG\\_0000000017 & Deaths due to tuberculosis among HIV-negative people (per 100 000 population) & https://www.who.int/data/gho/indicator-metadata-registry/imr-details/17 & ⋯ & NA & NA & NA\\\\\n",
       "\t MDG\\_0000000017 & Deaths due to tuberculosis among HIV-negative people (per 100 000 population) & https://www.who.int/data/gho/indicator-metadata-registry/imr-details/17 & ⋯ & NA & NA & NA\\\\\n",
       "\\end{tabular}\n"
      ],
      "text/markdown": [
       "\n",
       "A data.frame: 436 × 22\n",
       "\n",
       "| GHO..CODE. &lt;chr&gt; | GHO..DISPLAY. &lt;chr&gt; | GHO..URL. &lt;chr&gt; | ⋯ ⋯ | StdErr &lt;lgl&gt; | StdDev &lt;lgl&gt; | Comments &lt;lgl&gt; |\n",
       "|---|---|---|---|---|---|---|\n",
       "| TB_e_mort_exc_tbhiv_num | Number of deaths due to tuberculosis, excluding HIV | https://www.who.int/data/gho/indicator-metadata-registry/imr-details/1425 | ⋯ | NA | NA | NA |\n",
       "| TB_e_mort_exc_tbhiv_num | Number of deaths due to tuberculosis, excluding HIV | https://www.who.int/data/gho/indicator-metadata-registry/imr-details/1425 | ⋯ | NA | NA | NA |\n",
       "| TB_e_mort_exc_tbhiv_num | Number of deaths due to tuberculosis, excluding HIV | https://www.who.int/data/gho/indicator-metadata-registry/imr-details/1425 | ⋯ | NA | NA | NA |\n",
       "| ⋮ | ⋮ | ⋮ | ⋱ | ⋮ | ⋮ | ⋮ |\n",
       "| MDG_0000000017 | Deaths due to tuberculosis among HIV-negative people (per 100 000 population) | https://www.who.int/data/gho/indicator-metadata-registry/imr-details/17 | ⋯ | NA | NA | NA |\n",
       "| MDG_0000000017 | Deaths due to tuberculosis among HIV-negative people (per 100 000 population) | https://www.who.int/data/gho/indicator-metadata-registry/imr-details/17 | ⋯ | NA | NA | NA |\n",
       "| MDG_0000000017 | Deaths due to tuberculosis among HIV-negative people (per 100 000 population) | https://www.who.int/data/gho/indicator-metadata-registry/imr-details/17 | ⋯ | NA | NA | NA |\n",
       "\n"
      ],
      "text/plain": [
       "    GHO..CODE.             \n",
       "1   TB_e_mort_exc_tbhiv_num\n",
       "2   TB_e_mort_exc_tbhiv_num\n",
       "3   TB_e_mort_exc_tbhiv_num\n",
       "⋮   ⋮                      \n",
       "434 MDG_0000000017         \n",
       "435 MDG_0000000017         \n",
       "436 MDG_0000000017         \n",
       "    GHO..DISPLAY.                                                                \n",
       "1   Number of deaths due to tuberculosis, excluding HIV                          \n",
       "2   Number of deaths due to tuberculosis, excluding HIV                          \n",
       "3   Number of deaths due to tuberculosis, excluding HIV                          \n",
       "⋮   ⋮                                                                            \n",
       "434 Deaths due to tuberculosis among HIV-negative people (per 100 000 population)\n",
       "435 Deaths due to tuberculosis among HIV-negative people (per 100 000 population)\n",
       "436 Deaths due to tuberculosis among HIV-negative people (per 100 000 population)\n",
       "    GHO..URL.                                                                 ⋯\n",
       "1   https://www.who.int/data/gho/indicator-metadata-registry/imr-details/1425 ⋯\n",
       "2   https://www.who.int/data/gho/indicator-metadata-registry/imr-details/1425 ⋯\n",
       "3   https://www.who.int/data/gho/indicator-metadata-registry/imr-details/1425 ⋯\n",
       "⋮   ⋮                                                                         ⋱\n",
       "434 https://www.who.int/data/gho/indicator-metadata-registry/imr-details/17   ⋯\n",
       "435 https://www.who.int/data/gho/indicator-metadata-registry/imr-details/17   ⋯\n",
       "436 https://www.who.int/data/gho/indicator-metadata-registry/imr-details/17   ⋯\n",
       "    StdErr StdDev Comments\n",
       "1   NA     NA     NA      \n",
       "2   NA     NA     NA      \n",
       "3   NA     NA     NA      \n",
       "⋮   ⋮      ⋮      ⋮       \n",
       "434 NA     NA     NA      \n",
       "435 NA     NA     NA      \n",
       "436 NA     NA     NA      "
      ]
     },
     "metadata": {},
     "output_type": "display_data"
    }
   ],
   "source": [
    "# URL of the WHO dataset csv file\n",
    "tb_url <- \"https://apps.who.int/gho/athena/data/data-verbose.csv?target=GHO/MDG_0000000017,TB_e_mort_exc_tbhiv_num&profile=verbose&filter=COUNTRY:*;REGION:SEAR;&ead=\"\n",
    "\n",
    "# Reading this csv file into a dataframe\n",
    "tb_df <- read.csv(tb_url)\n",
    "\n",
    "tb_df"
   ]
  },
  {
   "cell_type": "markdown",
   "id": "cb7642a0-f868-49b3-91e2-1c8977531019",
   "metadata": {},
   "source": [
    "As of now, however, this dataset is unsorted, too large, and filled with uneccessary metadata. We fix this with a series of operations to wrangle our data into tidy format with three columns: *Country*, *Year*, and *Number of Deaths due to TB*"
   ]
  },
  {
   "cell_type": "code",
   "execution_count": 3,
   "id": "d705372f-d3b4-41f0-80f9-fda5035aeee8",
   "metadata": {},
   "outputs": [
    {
     "data": {
      "text/html": [
       "<table class=\"dataframe\">\n",
       "<caption>A data.frame: 436 × 3</caption>\n",
       "<thead>\n",
       "\t<tr><th scope=col>Year</th><th scope=col>Country</th><th scope=col>Number_of_Deaths_due_to_TB</th></tr>\n",
       "\t<tr><th scope=col>&lt;int&gt;</th><th scope=col>&lt;chr&gt;</th><th scope=col>&lt;dbl&gt;</th></tr>\n",
       "</thead>\n",
       "<tbody>\n",
       "\t<tr><td>2015</td><td>Bangladesh</td><td>66000</td></tr>\n",
       "\t<tr><td>2015</td><td>Bhutan    </td><td>  130</td></tr>\n",
       "\t<tr><td>2015</td><td>Indonesia </td><td>97000</td></tr>\n",
       "\t<tr><td>⋮</td><td>⋮</td><td>⋮</td></tr>\n",
       "\t<tr><td>2012</td><td>Timor-Leste</td><td>78</td></tr>\n",
       "\t<tr><td>2013</td><td>Timor-Leste</td><td>84</td></tr>\n",
       "\t<tr><td>2014</td><td>Timor-Leste</td><td>90</td></tr>\n",
       "</tbody>\n",
       "</table>\n"
      ],
      "text/latex": [
       "A data.frame: 436 × 3\n",
       "\\begin{tabular}{lll}\n",
       " Year & Country & Number\\_of\\_Deaths\\_due\\_to\\_TB\\\\\n",
       " <int> & <chr> & <dbl>\\\\\n",
       "\\hline\n",
       "\t 2015 & Bangladesh & 66000\\\\\n",
       "\t 2015 & Bhutan     &   130\\\\\n",
       "\t 2015 & Indonesia  & 97000\\\\\n",
       "\t ⋮ & ⋮ & ⋮\\\\\n",
       "\t 2012 & Timor-Leste & 78\\\\\n",
       "\t 2013 & Timor-Leste & 84\\\\\n",
       "\t 2014 & Timor-Leste & 90\\\\\n",
       "\\end{tabular}\n"
      ],
      "text/markdown": [
       "\n",
       "A data.frame: 436 × 3\n",
       "\n",
       "| Year &lt;int&gt; | Country &lt;chr&gt; | Number_of_Deaths_due_to_TB &lt;dbl&gt; |\n",
       "|---|---|---|\n",
       "| 2015 | Bangladesh | 66000 |\n",
       "| 2015 | Bhutan     |   130 |\n",
       "| 2015 | Indonesia  | 97000 |\n",
       "| ⋮ | ⋮ | ⋮ |\n",
       "| 2012 | Timor-Leste | 78 |\n",
       "| 2013 | Timor-Leste | 84 |\n",
       "| 2014 | Timor-Leste | 90 |\n",
       "\n"
      ],
      "text/plain": [
       "    Year Country     Number_of_Deaths_due_to_TB\n",
       "1   2015 Bangladesh  66000                     \n",
       "2   2015 Bhutan        130                     \n",
       "3   2015 Indonesia   97000                     \n",
       "⋮   ⋮    ⋮           ⋮                         \n",
       "434 2012 Timor-Leste 78                        \n",
       "435 2013 Timor-Leste 84                        \n",
       "436 2014 Timor-Leste 90                        "
      ]
     },
     "metadata": {},
     "output_type": "display_data"
    }
   ],
   "source": [
    "# The current columns are difficult to reference due to their spaces. We use make.names here to make them referenceable\n",
    "colnames(tb_df) <- make.names(colnames(tb_df))\n",
    "\n",
    "tb_df <- tb_df %>%\n",
    "    select(YEAR..CODE., COUNTRY..DISPLAY., Numeric) %>%\n",
    "    rename(\"Year\" = \"YEAR..CODE.\", \"Country\" = \"COUNTRY..DISPLAY.\", \"Number_of_Deaths_due_to_TB\" = \"Numeric\")\n",
    "\n",
    "tb_df"
   ]
  },
  {
   "cell_type": "code",
   "execution_count": 4,
   "id": "106c32f8-86d9-47d0-8057-f3c81604d138",
   "metadata": {},
   "outputs": [
    {
     "data": {
      "text/html": [
       "<pre class=language-r><code>function (x, df1, df2, ncp, log = FALSE) \n",
       "{\n",
       "<span style=white-space:pre-wrap>    if (missing(ncp)) </span>\n",
       "<span style=white-space:pre-wrap>        .Call(C_df, x, df1, df2, log)</span>\n",
       "<span style=white-space:pre-wrap>    else .Call(C_dnf, x, df1, df2, ncp, log)</span>\n",
       "}</code></pre>"
      ],
      "text/latex": [
       "\\begin{minted}{r}\n",
       "function (x, df1, df2, ncp, log = FALSE) \n",
       "\\{\n",
       "    if (missing(ncp)) \n",
       "        .Call(C\\_df, x, df1, df2, log)\n",
       "    else .Call(C\\_dnf, x, df1, df2, ncp, log)\n",
       "\\}\n",
       "\\end{minted}"
      ],
      "text/markdown": [
       "```r\n",
       "function (x, df1, df2, ncp, log = FALSE) \n",
       "{\n",
       "    if (missing(ncp)) \n",
       "        .Call(C_df, x, df1, df2, log)\n",
       "    else .Call(C_dnf, x, df1, df2, ncp, log)\n",
       "}\n",
       "```"
      ],
      "text/plain": [
       "function (x, df1, df2, ncp, log = FALSE) \n",
       "{\n",
       "    if (missing(ncp)) \n",
       "        .Call(C_df, x, df1, df2, log)\n",
       "    else .Call(C_dnf, x, df1, df2, ncp, log)\n",
       "}\n",
       "<bytecode: 0x55aa62dcc400>\n",
       "<environment: namespace:stats>"
      ]
     },
     "metadata": {},
     "output_type": "display_data"
    }
   ],
   "source": [
    "gdp_url <- \"https://stats.oecd.org/sdmx-json/data/DP_LIVE/.GDP.TOT.USD_CAP.A/OECD?contentType=csv&detail=code&separator=comma&csv-lang=en&startPeriod=2000&endPeriod=2021\"\n",
    "\n",
    "df"
   ]
  },
  {
   "cell_type": "markdown",
   "id": "da915499-7600-4a34-abd3-65fb816421a8",
   "metadata": {},
   "source": [
    "<h3>Methods: Plan</h3>\n",
    "<hr>"
   ]
  },
  {
   "cell_type": "code",
   "execution_count": null,
   "id": "88fee2cd-1a23-4694-9de5-cdb70afb6f6a",
   "metadata": {},
   "outputs": [],
   "source": []
  },
  {
   "cell_type": "markdown",
   "id": "ad38fd7e-12df-4ef2-bf42-949864c5a4c4",
   "metadata": {},
   "source": [
    "<h3>References</h3>\n",
    "<hr>"
   ]
  },
  {
   "cell_type": "code",
   "execution_count": null,
   "id": "eeb8ea7c-dac1-4716-981a-a1a9e1867d5f",
   "metadata": {},
   "outputs": [],
   "source": []
  }
 ],
 "metadata": {
  "kernelspec": {
   "display_name": "R",
   "language": "R",
   "name": "ir"
  },
  "language_info": {
   "codemirror_mode": "r",
   "file_extension": ".r",
   "mimetype": "text/x-r-source",
   "name": "R",
   "pygments_lexer": "r",
   "version": "4.1.3"
  }
 },
 "nbformat": 4,
 "nbformat_minor": 5
}
