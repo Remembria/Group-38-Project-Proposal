{
 "cells": [
  {
   "cell_type": "markdown",
   "id": "4ab20575-b166-4c12-ab80-1ed18587a97b",
   "metadata": {},
   "source": [
    "<h1>Group 38 Project Proposal: Determining the Connection Between Country Wealth and Tuberculosis Mortality <h1>\n",
    "    \n",
    "<img src=\"images/TB_img.jpg\" alt=\"Tuberculosis under EM Microscope\" width = \"1000\"/>\n",
    "    \n",
    "<font size=\"2\"> <i>image attribution</i>: NIAID Mycobacterium tuberculosis Bacteria, the Cause of TB, CC BY 2.0 <https://creativecommons.org/licenses/by/4.0>, via Flickr at <https://www.flickr.com/photos/niaid/51637606937/in/photostream/> </font>"
   ]
  },
  {
   "cell_type": "markdown",
   "id": "d74482ba-2b36-44c4-9f24-6c5b81ebd32d",
   "metadata": {},
   "source": [
    "<h3>Introduction</h3>\n",
    "<hr>"
   ]
  },
  {
   "cell_type": "markdown",
   "id": "d5d9ad27-4edf-4b15-ab5d-84014bd8e9c7",
   "metadata": {},
   "source": [
    "*Total Word Count:* ---"
   ]
  },
  {
   "cell_type": "markdown",
   "id": "696bf996-d75b-43ea-a536-8dd9f9577b5a",
   "metadata": {},
   "source": [
    "Tuberculosis is an airborne respiratory disease that affects mainly the lungs. It can also affect other organs and the symptoms differ depending on where the infection is. Tuberculosis is spread by germs that are released into the air when someone coughs or sneezes. People who breathe in this air may not necessarily become sick because the germs are not active, although they may become sick later on. When the germs are active they divide and attack organ tissues, causing severe threats.  \n",
    "HIV (Human Immunodeficiency Virus) is an infection that affects the immune system. Symptoms include flu-like symptoms, chills, rash, and fatigue. HIV spreads through sex and sharing needles. More serious stages of HIV develop into AIDS (Acquired immunodeficiency syndrome). There’s currently no cure or vaccine for HIV. \n",
    "Due to a decrease in the functionality of the immune system in HIV patients, they are more likely to become sick with other diseases, especially tuberculosis. \n",
    "\n",
    "Preventive measures and access to healthcare services are of utmost importance when it comes to reducing these infections in the population. However, these factors are not always accessible in every part of the world. In this observational study, we aim to compare the number of deaths due to Tuberculosis across countries in different World Bank income groups, specifically between low-income countries and high-income countries. By doing this we can make conclusions about how much a country invests in healthcare can affect accessibility and the deaths caused by diseases such as Tuberculosis. \n",
    "The dataset that we are using is “Tuberculosis > Mortality Data by Country” (source: https://apps.who.int/gho/data/view.main.57020ALL?lang=en)\n",
    "The data file is xmart.csv\n",
    "\n",
    "**The columns in the full dataset are: **  \n",
    "**Country**  \n",
    "**Year**  \n",
    "**Number of deaths due to tuberculosis, excluding HIV**: number of deaths caused by tuberculosis in a given year, rounded to 2 significant figures  \n",
    "**Deaths due to tuberculosis among HIV-negative people (per 100 000 population)**: number of deaths caused by tuberculosis that have been tested negative for HIV in a given year\n",
    "\n"
   ]
  },
  {
   "cell_type": "markdown",
   "id": "754dfec3-f7ec-47eb-8ffe-c77626386fd0",
   "metadata": {},
   "source": [
    "<h3>Preliminary Results</h3>\n",
    "<hr>"
   ]
  },
  {
   "cell_type": "code",
   "execution_count": 1,
   "id": "fa034e23-9fd5-46be-bd05-ec73665e4456",
   "metadata": {},
   "outputs": [
    {
     "name": "stderr",
     "output_type": "stream",
     "text": [
      "── \u001b[1mAttaching packages\u001b[22m ─────────────────────────────────────── tidyverse 1.3.2 ──\n",
      "\u001b[32m✔\u001b[39m \u001b[34mggplot2\u001b[39m 3.3.6      \u001b[32m✔\u001b[39m \u001b[34mpurrr  \u001b[39m 0.3.4 \n",
      "\u001b[32m✔\u001b[39m \u001b[34mtibble \u001b[39m 3.1.8      \u001b[32m✔\u001b[39m \u001b[34mdplyr  \u001b[39m 1.0.10\n",
      "\u001b[32m✔\u001b[39m \u001b[34mtidyr  \u001b[39m 1.2.1      \u001b[32m✔\u001b[39m \u001b[34mstringr\u001b[39m 1.4.1 \n",
      "\u001b[32m✔\u001b[39m \u001b[34mreadr  \u001b[39m 2.1.2      \u001b[32m✔\u001b[39m \u001b[34mforcats\u001b[39m 0.5.2 \n",
      "── \u001b[1mConflicts\u001b[22m ────────────────────────────────────────── tidyverse_conflicts() ──\n",
      "\u001b[31m✖\u001b[39m \u001b[34mdplyr\u001b[39m::\u001b[32mfilter()\u001b[39m masks \u001b[34mstats\u001b[39m::filter()\n",
      "\u001b[31m✖\u001b[39m \u001b[34mdplyr\u001b[39m::\u001b[32mlag()\u001b[39m    masks \u001b[34mstats\u001b[39m::lag()\n",
      "\n",
      "Attaching package: ‘gridExtra’\n",
      "\n",
      "\n",
      "The following object is masked from ‘package:dplyr’:\n",
      "\n",
      "    combine\n",
      "\n",
      "\n"
     ]
    }
   ],
   "source": [
    "library(tidyverse)\n",
    "library(broom)\n",
    "library(repr)\n",
    "library(digest)\n",
    "library(infer)\n",
    "library(gridExtra)\n",
    "options(repr.matrix.max.rows = 6)\n",
    "options(repr.matrix.max.cols = 6)"
   ]
  },
  {
   "cell_type": "markdown",
   "id": "576508c5-e0d4-47ab-b479-abeb0bf4a106",
   "metadata": {},
   "source": [
    "For this investigation, we use two datasets: the **World Health Orginization (WHO)** Tuberculosis Mortality dataset, and the **OECD** GDP by country dataset.\n",
    "\n",
    "We begin with the **WHO** dataset, which we'll wrangle into tidy data before encorperating the **OECD** GDP data."
   ]
  },
  {
   "cell_type": "code",
   "execution_count": 3,
   "id": "2419291f-f800-4e44-ab4d-5074f088b1a5",
   "metadata": {},
   "outputs": [
    {
     "data": {
      "text/html": [
       "<table class=\"dataframe\">\n",
       "<caption>A data.frame: 6 × 3</caption>\n",
       "<thead>\n",
       "\t<tr><th></th><th scope=col>Country..Year</th><th scope=col>Number.of.deaths.due.to.tuberculosis..excluding.HIV</th><th scope=col>Deaths.due.to.tuberculosis.among.HIV.negative.people..per.100.000.population.</th></tr>\n",
       "\t<tr><th></th><th scope=col>&lt;chr&gt;</th><th scope=col>&lt;chr&gt;</th><th scope=col>&lt;chr&gt;</th></tr>\n",
       "</thead>\n",
       "<tbody>\n",
       "\t<tr><th scope=row>1</th><td>Afghanistan; 2021</td><td>12 000 [7300-19 000]</td><td>31 [18-47]</td></tr>\n",
       "\t<tr><th scope=row>2</th><td>Afghanistan; 2020</td><td>13 000 [7800-20 000]</td><td>34 [20-52]</td></tr>\n",
       "\t<tr><th scope=row>3</th><td>Afghanistan; 2019</td><td>9800 [5800-15 000]  </td><td>26 [15-39]</td></tr>\n",
       "\t<tr><th scope=row>4</th><td>Afghanistan; 2018</td><td>11 000 [6300-16 000]</td><td>29 [17-44]</td></tr>\n",
       "\t<tr><th scope=row>5</th><td>Afghanistan; 2017</td><td>11 000 [6300-16 000]</td><td>30 [18-45]</td></tr>\n",
       "\t<tr><th scope=row>6</th><td>Afghanistan; 2016</td><td>12 000 [6900-18 000]</td><td>34 [20-51]</td></tr>\n",
       "</tbody>\n",
       "</table>\n"
      ],
      "text/latex": [
       "A data.frame: 6 × 3\n",
       "\\begin{tabular}{r|lll}\n",
       "  & Country..Year & Number.of.deaths.due.to.tuberculosis..excluding.HIV & Deaths.due.to.tuberculosis.among.HIV.negative.people..per.100.000.population.\\\\\n",
       "  & <chr> & <chr> & <chr>\\\\\n",
       "\\hline\n",
       "\t1 & Afghanistan; 2021 & 12 000 {[}7300-19 000{]} & 31 {[}18-47{]}\\\\\n",
       "\t2 & Afghanistan; 2020 & 13 000 {[}7800-20 000{]} & 34 {[}20-52{]}\\\\\n",
       "\t3 & Afghanistan; 2019 & 9800 {[}5800-15 000{]}   & 26 {[}15-39{]}\\\\\n",
       "\t4 & Afghanistan; 2018 & 11 000 {[}6300-16 000{]} & 29 {[}17-44{]}\\\\\n",
       "\t5 & Afghanistan; 2017 & 11 000 {[}6300-16 000{]} & 30 {[}18-45{]}\\\\\n",
       "\t6 & Afghanistan; 2016 & 12 000 {[}6900-18 000{]} & 34 {[}20-51{]}\\\\\n",
       "\\end{tabular}\n"
      ],
      "text/markdown": [
       "\n",
       "A data.frame: 6 × 3\n",
       "\n",
       "| <!--/--> | Country..Year &lt;chr&gt; | Number.of.deaths.due.to.tuberculosis..excluding.HIV &lt;chr&gt; | Deaths.due.to.tuberculosis.among.HIV.negative.people..per.100.000.population. &lt;chr&gt; |\n",
       "|---|---|---|---|\n",
       "| 1 | Afghanistan; 2021 | 12 000 [7300-19 000] | 31 [18-47] |\n",
       "| 2 | Afghanistan; 2020 | 13 000 [7800-20 000] | 34 [20-52] |\n",
       "| 3 | Afghanistan; 2019 | 9800 [5800-15 000]   | 26 [15-39] |\n",
       "| 4 | Afghanistan; 2018 | 11 000 [6300-16 000] | 29 [17-44] |\n",
       "| 5 | Afghanistan; 2017 | 11 000 [6300-16 000] | 30 [18-45] |\n",
       "| 6 | Afghanistan; 2016 | 12 000 [6900-18 000] | 34 [20-51] |\n",
       "\n"
      ],
      "text/plain": [
       "  Country..Year     Number.of.deaths.due.to.tuberculosis..excluding.HIV\n",
       "1 Afghanistan; 2021 12 000 [7300-19 000]                               \n",
       "2 Afghanistan; 2020 13 000 [7800-20 000]                               \n",
       "3 Afghanistan; 2019 9800 [5800-15 000]                                 \n",
       "4 Afghanistan; 2018 11 000 [6300-16 000]                               \n",
       "5 Afghanistan; 2017 11 000 [6300-16 000]                               \n",
       "6 Afghanistan; 2016 12 000 [6900-18 000]                               \n",
       "  Deaths.due.to.tuberculosis.among.HIV.negative.people..per.100.000.population.\n",
       "1 31 [18-47]                                                                   \n",
       "2 34 [20-52]                                                                   \n",
       "3 26 [15-39]                                                                   \n",
       "4 29 [17-44]                                                                   \n",
       "5 30 [18-45]                                                                   \n",
       "6 34 [20-51]                                                                   "
      ]
     },
     "metadata": {},
     "output_type": "display_data"
    }
   ],
   "source": [
    "# URL of the WHO dataset csv file\n",
    "tb_url <- \"https://github.com/Remembria/Group-38-Project-Proposal/raw/main/xmart.csv\"\n",
    "\n",
    "# Reading this csv file into a dataframe\n",
    "tb_df <- read.csv(tb_url)\n",
    "\n",
    "head(tb_df)"
   ]
  },
  {
   "cell_type": "markdown",
   "id": "cb7642a0-f868-49b3-91e2-1c8977531019",
   "metadata": {},
   "source": [
    "As of now, however, this dataset is unsorted, too large, and filled with uneccessary metadata. We fix this with a series of operations to wrangle our data into tidy format with three columns: *Country*, *Year*, and *Number of Deaths due to TB*"
   ]
  },
  {
   "cell_type": "code",
   "execution_count": 17,
   "id": "d705372f-d3b4-41f0-80f9-fda5035aeee8",
   "metadata": {},
   "outputs": [
    {
     "data": {
      "text/html": [
       "<table class=\"dataframe\">\n",
       "<caption>A data.frame: 4223 × 4</caption>\n",
       "<thead>\n",
       "\t<tr><th scope=col>Country</th><th scope=col>Year</th><th scope=col>Number.of.deaths.due.to.tuberculosis..excluding.HIV</th><th scope=col>Deaths.due.to.tuberculosis.among.HIV.negative.people..per.100.000.population.</th></tr>\n",
       "\t<tr><th scope=col>&lt;chr&gt;</th><th scope=col>&lt;chr&gt;</th><th scope=col>&lt;chr&gt;</th><th scope=col>&lt;chr&gt;</th></tr>\n",
       "</thead>\n",
       "<tbody>\n",
       "\t<tr><td>Afghanistan</td><td>2021</td><td>12 000 [7300-19 000]</td><td>31 [18-47]</td></tr>\n",
       "\t<tr><td>Afghanistan</td><td>2020</td><td>13 000 [7800-20 000]</td><td>34 [20-52]</td></tr>\n",
       "\t<tr><td>Afghanistan</td><td>2019</td><td>9800 [5800-15 000]  </td><td>26 [15-39]</td></tr>\n",
       "\t<tr><td>⋮</td><td>⋮</td><td>⋮</td><td>⋮</td></tr>\n",
       "\t<tr><td>Zimbabwe</td><td>2002</td><td>2900 [1200-5400]</td><td>24 [9.9-45]</td></tr>\n",
       "\t<tr><td>Zimbabwe</td><td>2001</td><td>3100 [1300-5800]</td><td>26 [11-49] </td></tr>\n",
       "\t<tr><td>Zimbabwe</td><td>2000</td><td>3300 [1300-6400]</td><td>28 [11-54] </td></tr>\n",
       "</tbody>\n",
       "</table>\n"
      ],
      "text/latex": [
       "A data.frame: 4223 × 4\n",
       "\\begin{tabular}{llll}\n",
       " Country & Year & Number.of.deaths.due.to.tuberculosis..excluding.HIV & Deaths.due.to.tuberculosis.among.HIV.negative.people..per.100.000.population.\\\\\n",
       " <chr> & <chr> & <chr> & <chr>\\\\\n",
       "\\hline\n",
       "\t Afghanistan & 2021 & 12 000 {[}7300-19 000{]} & 31 {[}18-47{]}\\\\\n",
       "\t Afghanistan & 2020 & 13 000 {[}7800-20 000{]} & 34 {[}20-52{]}\\\\\n",
       "\t Afghanistan & 2019 & 9800 {[}5800-15 000{]}   & 26 {[}15-39{]}\\\\\n",
       "\t ⋮ & ⋮ & ⋮ & ⋮\\\\\n",
       "\t Zimbabwe & 2002 & 2900 {[}1200-5400{]} & 24 {[}9.9-45{]}\\\\\n",
       "\t Zimbabwe & 2001 & 3100 {[}1300-5800{]} & 26 {[}11-49{]} \\\\\n",
       "\t Zimbabwe & 2000 & 3300 {[}1300-6400{]} & 28 {[}11-54{]} \\\\\n",
       "\\end{tabular}\n"
      ],
      "text/markdown": [
       "\n",
       "A data.frame: 4223 × 4\n",
       "\n",
       "| Country &lt;chr&gt; | Year &lt;chr&gt; | Number.of.deaths.due.to.tuberculosis..excluding.HIV &lt;chr&gt; | Deaths.due.to.tuberculosis.among.HIV.negative.people..per.100.000.population. &lt;chr&gt; |\n",
       "|---|---|---|---|\n",
       "| Afghanistan | 2021 | 12 000 [7300-19 000] | 31 [18-47] |\n",
       "| Afghanistan | 2020 | 13 000 [7800-20 000] | 34 [20-52] |\n",
       "| Afghanistan | 2019 | 9800 [5800-15 000]   | 26 [15-39] |\n",
       "| ⋮ | ⋮ | ⋮ | ⋮ |\n",
       "| Zimbabwe | 2002 | 2900 [1200-5400] | 24 [9.9-45] |\n",
       "| Zimbabwe | 2001 | 3100 [1300-5800] | 26 [11-49]  |\n",
       "| Zimbabwe | 2000 | 3300 [1300-6400] | 28 [11-54]  |\n",
       "\n"
      ],
      "text/plain": [
       "     Country     Year Number.of.deaths.due.to.tuberculosis..excluding.HIV\n",
       "1    Afghanistan 2021 12 000 [7300-19 000]                               \n",
       "2    Afghanistan 2020 13 000 [7800-20 000]                               \n",
       "3    Afghanistan 2019 9800 [5800-15 000]                                 \n",
       "⋮    ⋮           ⋮    ⋮                                                  \n",
       "4221 Zimbabwe    2002 2900 [1200-5400]                                   \n",
       "4222 Zimbabwe    2001 3100 [1300-5800]                                   \n",
       "4223 Zimbabwe    2000 3300 [1300-6400]                                   \n",
       "     Deaths.due.to.tuberculosis.among.HIV.negative.people..per.100.000.population.\n",
       "1    31 [18-47]                                                                   \n",
       "2    34 [20-52]                                                                   \n",
       "3    26 [15-39]                                                                   \n",
       "⋮    ⋮                                                                            \n",
       "4221 24 [9.9-45]                                                                  \n",
       "4222 26 [11-49]                                                                   \n",
       "4223 28 [11-54]                                                                   "
      ]
     },
     "metadata": {},
     "output_type": "display_data"
    }
   ],
   "source": [
    "# The current columns are difficult to reference due to their spaces. We use make.names here to make them referenceable\n",
    "colnames(tb_df) <- make.names(colnames(tb_df))\n",
    "tb_df"
   ]
  },
  {
   "cell_type": "code",
   "execution_count": 28,
   "id": "8d1a2691-c5e9-43ca-8787-7043882d8338",
   "metadata": {},
   "outputs": [
    {
     "ename": "ERROR",
     "evalue": "\u001b[1m\u001b[33mError\u001b[39m in \u001b[1m\u001b[1m`select()`:\u001b[22m\n\u001b[33m!\u001b[39m Can't subset columns that don't exist.\n\u001b[31m✖\u001b[39m Column `Number.of.deaths.due.to.tuberculosis..excluding.HIV` doesn't exist.\n",
     "output_type": "error",
     "traceback": [
      "\u001b[1m\u001b[33mError\u001b[39m in \u001b[1m\u001b[1m`select()`:\u001b[22m\n\u001b[33m!\u001b[39m Can't subset columns that don't exist.\n\u001b[31m✖\u001b[39m Column `Number.of.deaths.due.to.tuberculosis..excluding.HIV` doesn't exist.\nTraceback:\n",
      "1. separate(tb_df %>% select(Country, Year, Number.of.deaths.due.to.tuberculosis..excluding.HIV) %>% \n .     rename(country = Country, deaths_exclude_HIV = Number.of.deaths.due.to.tuberculosis..excluding.HIV), \n .     deaths_exlcude_HIV, c(deaths_exlude_HIV, NA))",
      "2. tb_df %>% select(Country, Year, Number.of.deaths.due.to.tuberculosis..excluding.HIV) %>% \n .     rename(country = Country, deaths_exclude_HIV = Number.of.deaths.due.to.tuberculosis..excluding.HIV)",
      "3. rename(., country = Country, deaths_exclude_HIV = Number.of.deaths.due.to.tuberculosis..excluding.HIV)",
      "4. select(., Country, Year, Number.of.deaths.due.to.tuberculosis..excluding.HIV)",
      "5. select.data.frame(., Country, Year, Number.of.deaths.due.to.tuberculosis..excluding.HIV)",
      "6. tidyselect_fix_call(tidyselect::eval_select(expr(c(...)), .data), \n .     call = error_call)",
      "7. withCallingHandlers(expr, error = function(cnd) {\n .     cnd$call <- call\n .     cnd$parent <- NULL\n .     cnd_signal(cnd)\n . })",
      "8. tidyselect::eval_select(expr(c(...)), .data)",
      "9. eval_select_impl(data, names(data), as_quosure(expr, env), include = include, \n .     exclude = exclude, strict = strict, name_spec = name_spec, \n .     allow_rename = allow_rename, error_call = error_call, )",
      "10. with_subscript_errors(vars_select_eval(vars, expr, strict = strict, \n  .     data = x, name_spec = name_spec, uniquely_named = uniquely_named, \n  .     allow_rename = allow_rename, type = type, error_call = error_call), \n  .     type = type)",
      "11. tryCatch(with_entraced_errors(expr), vctrs_error_subscript = function(cnd) {\n  .     cnd$subscript_action <- subscript_action(type)\n  .     cnd$subscript_elt <- \"column\"\n  .     cnd_signal(cnd)\n  . })",
      "12. tryCatchList(expr, classes, parentenv, handlers)",
      "13. tryCatchOne(expr, names, parentenv, handlers[[1L]])",
      "14. value[[3L]](cond)",
      "15. cnd_signal(cnd)",
      "16. signal_abort(cnd)",
      "17. signalCondition(cnd)",
      "18. (function (cnd) \n  . {\n  .     cnd$call <- call\n  .     cnd$parent <- NULL\n  .     cnd_signal(cnd)\n  . })(structure(list(message = \"\", trace = structure(list(call = list(\n  .     IRkernel::main(), kernel$run(), handle_shell(), executor$execute(msg), \n  .     tryCatch(evaluate(request$content$code, envir = .GlobalEnv, \n  .         output_handler = oh, stop_on_error = 1L), interrupt = function(cond) {\n  .         log_debug(\"Interrupt during execution\")\n  .         interrupted <<- TRUE\n  .     }, error = .self$handle_error), tryCatchList(expr, classes, \n  .         parentenv, handlers), tryCatchOne(tryCatchList(expr, \n  .         names[-nh], parentenv, handlers[-nh]), names[nh], parentenv, \n  .         handlers[[nh]]), doTryCatch(return(expr), name, parentenv, \n  .         handler), tryCatchList(expr, names[-nh], parentenv, handlers[-nh]), \n  .     tryCatchOne(expr, names, parentenv, handlers[[1L]]), doTryCatch(return(expr), \n  .         name, parentenv, handler), evaluate(request$content$code, \n  .         envir = .GlobalEnv, output_handler = oh, stop_on_error = 1L), \n  .     evaluate_call(expr, parsed$src[[i]], envir = envir, enclos = enclos, \n  .         debug = debug, last = i == length(out), use_try = stop_on_error != \n  .             2L, keep_warning = keep_warning, keep_message = keep_message, \n  .         output_handler = output_handler, include_timing = include_timing), \n  .     timing_fn(handle(ev <- withCallingHandlers(withVisible(eval_with_user_handlers(expr, \n  .         envir, enclos, user_handlers)), warning = wHandler, error = eHandler, \n  .         message = mHandler))), handle(ev <- withCallingHandlers(withVisible(eval_with_user_handlers(expr, \n  .         envir, enclos, user_handlers)), warning = wHandler, error = eHandler, \n  .         message = mHandler)), try(f, silent = TRUE), tryCatch(expr, \n  .         error = function(e) {\n  .             call <- conditionCall(e)\n  .             if (!is.null(call)) {\n  .                 if (identical(call[[1L]], quote(doTryCatch))) \n  .                   call <- sys.call(-4L)\n  .                 dcall <- deparse(call, nlines = 1L)\n  .                 prefix <- paste(\"Error in\", dcall, \": \")\n  .                 LONG <- 75L\n  .                 sm <- strsplit(conditionMessage(e), \"\\n\")[[1L]]\n  .                 w <- 14L + nchar(dcall, type = \"w\") + nchar(sm[1L], \n  .                   type = \"w\")\n  .                 if (is.na(w)) \n  .                   w <- 14L + nchar(dcall, type = \"b\") + nchar(sm[1L], \n  .                     type = \"b\")\n  .                 if (w > LONG) \n  .                   prefix <- paste0(prefix, \"\\n  \")\n  .             }\n  .             else prefix <- \"Error : \"\n  .             msg <- paste0(prefix, conditionMessage(e), \"\\n\")\n  .             .Internal(seterrmessage(msg[1L]))\n  .             if (!silent && isTRUE(getOption(\"show.error.messages\"))) {\n  .                 cat(msg, file = outFile)\n  .                 .Internal(printDeferredWarnings())\n  .             }\n  .             invisible(structure(msg, class = \"try-error\", condition = e))\n  .         }), tryCatchList(expr, classes, parentenv, handlers), \n  .     tryCatchOne(expr, names, parentenv, handlers[[1L]]), doTryCatch(return(expr), \n  .         name, parentenv, handler), withCallingHandlers(withVisible(eval_with_user_handlers(expr, \n  .         envir, enclos, user_handlers)), warning = wHandler, error = eHandler, \n  .         message = mHandler), withVisible(eval_with_user_handlers(expr, \n  .         envir, enclos, user_handlers)), eval_with_user_handlers(expr, \n  .         envir, enclos, user_handlers), eval(expr, envir, enclos), \n  .     eval(expr, envir, enclos), separate(tb_df %>% select(Country, \n  .         Year, Number.of.deaths.due.to.tuberculosis..excluding.HIV) %>% \n  .         rename(country = Country, deaths_exclude_HIV = Number.of.deaths.due.to.tuberculosis..excluding.HIV), \n  .         deaths_exlcude_HIV, c(deaths_exlude_HIV, NA)), tb_df %>% \n  .         select(Country, Year, Number.of.deaths.due.to.tuberculosis..excluding.HIV) %>% \n  .         rename(country = Country, deaths_exclude_HIV = Number.of.deaths.due.to.tuberculosis..excluding.HIV), \n  .     rename(., country = Country, deaths_exclude_HIV = Number.of.deaths.due.to.tuberculosis..excluding.HIV), \n  .     select(., Country, Year, Number.of.deaths.due.to.tuberculosis..excluding.HIV), \n  .     select.data.frame(., Country, Year, Number.of.deaths.due.to.tuberculosis..excluding.HIV), \n  .     tidyselect_fix_call(tidyselect::eval_select(expr(c(...)), \n  .         .data), call = error_call), withCallingHandlers(expr, \n  .         error = function(cnd) {\n  .             cnd$call <- call\n  .             cnd$parent <- NULL\n  .             cnd_signal(cnd)\n  .         }), tidyselect::eval_select(expr(c(...)), .data), eval_select_impl(data, \n  .         names(data), as_quosure(expr, env), include = include, \n  .         exclude = exclude, strict = strict, name_spec = name_spec, \n  .         allow_rename = allow_rename, error_call = error_call, \n  .         ), with_subscript_errors(vars_select_eval(vars, expr, \n  .         strict = strict, data = x, name_spec = name_spec, uniquely_named = uniquely_named, \n  .         allow_rename = allow_rename, type = type, error_call = error_call), \n  .         type = type), tryCatch(with_entraced_errors(expr), vctrs_error_subscript = function(cnd) {\n  .         cnd$subscript_action <- subscript_action(type)\n  .         cnd$subscript_elt <- \"column\"\n  .         cnd_signal(cnd)\n  .     }), tryCatchList(expr, classes, parentenv, handlers), tryCatchOne(expr, \n  .         names, parentenv, handlers[[1L]]), doTryCatch(return(expr), \n  .         name, parentenv, handler), with_entraced_errors(expr), \n  .     try_fetch(expr, simpleError = function(cnd) {\n  .         abort(conditionMessage(cnd), call = conditionCall(cnd))\n  .     }), withCallingHandlers(expr, simpleError = function(cnd) {\n  .         {\n  .             .__handler_frame__. <- TRUE\n  .             .__setup_frame__. <- frame\n  .         }\n  .         out <- handlers[[1L]](cnd)\n  .         if (!inherits(out, \"rlang_zap\")) \n  .             throw(out)\n  .     }), vars_select_eval(vars, expr, strict = strict, data = x, \n  .         name_spec = name_spec, uniquely_named = uniquely_named, \n  .         allow_rename = allow_rename, type = type, error_call = error_call), \n  .     walk_data_tree(expr, data_mask, context_mask, error_call), \n  .     eval_c(expr, data_mask, context_mask), reduce_sels(node, \n  .         data_mask, context_mask, init = init), walk_data_tree(new, \n  .         data_mask, context_mask), as_indices_sel_impl(out, vars = vars, \n  .         strict = strict, data = data, call = error_call), as_indices_impl(x, \n  .         vars, call = call, strict = strict), chr_as_locations(x, \n  .         vars, call = call), vctrs::vec_as_location(x, n = length(vars), \n  .         names = vars), `<fn>`(), stop_subscript_oob(i = i, subscript_type = subscript_type, \n  .         names = names, subscript_action = subscript_action, subscript_arg = subscript_arg, \n  .         call = call), stop_subscript(class = \"vctrs_error_subscript_oob\", \n  .         i = i, subscript_type = subscript_type, ..., call = call), \n  .     abort(class = c(class, \"vctrs_error_subscript\"), i = i, ..., \n  .         call = vctrs_error_call(call))), parent = c(0L, 1L, 2L, \n  . 3L, 4L, 5L, 6L, 7L, 6L, 9L, 10L, 4L, 12L, 13L, 13L, 15L, 16L, \n  . 17L, 18L, 19L, 13L, 13L, 13L, 23L, 24L, 0L, 0L, 0L, 0L, 0L, 30L, \n  . 31L, 30L, 33L, 34L, 35L, 36L, 37L, 38L, 35L, 40L, 41L, 34L, 43L, \n  . 44L, 45L, 46L, 47L, 48L, 49L, 50L, 51L, 52L, 53L, 54L), visible = c(TRUE, \n  . TRUE, TRUE, TRUE, TRUE, TRUE, TRUE, TRUE, TRUE, TRUE, TRUE, TRUE, \n  . TRUE, TRUE, TRUE, TRUE, TRUE, TRUE, TRUE, TRUE, TRUE, TRUE, TRUE, \n  . TRUE, TRUE, TRUE, TRUE, TRUE, TRUE, TRUE, TRUE, TRUE, TRUE, TRUE, \n  . TRUE, TRUE, TRUE, TRUE, TRUE, TRUE, TRUE, TRUE, TRUE, TRUE, TRUE, \n  . TRUE, TRUE, TRUE, TRUE, TRUE, FALSE, FALSE, FALSE, FALSE, FALSE\n  . ), namespace = c(\"IRkernel\", NA, \"IRkernel\", NA, \"base\", \"base\", \n  . \"base\", \"base\", \"base\", \"base\", \"base\", \"evaluate\", \"evaluate\", \n  . \"evaluate\", \"evaluate\", \"base\", \"base\", \"base\", \"base\", \"base\", \n  . \"base\", \"base\", \"evaluate\", \"base\", \"base\", \"tidyr\", NA, \"dplyr\", \n  . \"dplyr\", \"dplyr\", \"dplyr\", \"base\", \"tidyselect\", \"tidyselect\", \n  . \"tidyselect\", \"base\", \"base\", \"base\", \"base\", \"tidyselect\", \"rlang\", \n  . \"base\", \"tidyselect\", \"tidyselect\", \"tidyselect\", \"tidyselect\", \n  . \"tidyselect\", \"tidyselect\", \"tidyselect\", \"tidyselect\", \"vctrs\", \n  . \"vctrs\", \"vctrs\", \"vctrs\", \"rlang\"), scope = c(\"::\", NA, \"local\", \n  . NA, \"::\", \"local\", \"local\", \"local\", \"local\", \"local\", \"local\", \n  . \"::\", \":::\", \"local\", \"local\", \"::\", \"::\", \"local\", \"local\", \n  . \"local\", \"::\", \"::\", \":::\", \"::\", \"::\", \"::\", NA, \"::\", \"::\", \n  . \":::\", \":::\", \"::\", \"::\", \":::\", \":::\", \"::\", \"local\", \"local\", \n  . \"local\", \":::\", \"::\", \"::\", \":::\", \":::\", \":::\", \":::\", \":::\", \n  . \":::\", \":::\", \":::\", \"::\", \"local\", \":::\", \":::\", \"::\"), error_frame = c(FALSE, \n  . FALSE, FALSE, FALSE, FALSE, FALSE, FALSE, FALSE, FALSE, FALSE, \n  . FALSE, FALSE, FALSE, FALSE, FALSE, FALSE, FALSE, FALSE, FALSE, \n  . FALSE, FALSE, FALSE, FALSE, FALSE, FALSE, FALSE, FALSE, FALSE, \n  . FALSE, FALSE, FALSE, FALSE, FALSE, FALSE, FALSE, FALSE, FALSE, \n  . FALSE, FALSE, FALSE, FALSE, FALSE, FALSE, FALSE, FALSE, FALSE, \n  . FALSE, FALSE, FALSE, TRUE, FALSE, FALSE, FALSE, FALSE, FALSE)), row.names = c(NA, \n  . -55L), version = 2L, class = c(\"rlang_trace\", \"rlib_trace\", \"tbl\", \n  . \"data.frame\")), parent = NULL, i = \"Number.of.deaths.due.to.tuberculosis..excluding.HIV\", \n  .     subscript_type = \"character\", names = c(\"Country\", \"Year\", \n  .     \"deaths_exclude_HIV\"), subscript_action = \"subset\", subscript_arg = \"x\", \n  .     call = chr_as_locations(x, vars, call = call), subscript_elt = \"column\"), class = c(\"vctrs_error_subscript_oob\", \n  . \"vctrs_error_subscript\", \"rlang_error\", \"error\", \"condition\")))",
      "19. cnd_signal(cnd)",
      "20. signal_abort(cnd)"
     ]
    }
   ],
   "source": [
    "#Rename the data columns so we can easily work with them \n",
    "tb_df <- tb_df %>%\n",
    "    select(Country, Year, Number.of.deaths.due.to.tuberculosis..excluding.HIV) %>%\n",
    "    rename(country = Country, deaths_exclude_HIV = Number.of.deaths.due.to.tuberculosis..excluding.HIV) |>\n",
    "    separate(deaths_exlcude_HIV, c(deaths_exlude_HIV, NA))\n",
    "\n",
    "tb_df"
   ]
  },
  {
   "cell_type": "code",
   "execution_count": 4,
   "id": "106c32f8-86d9-47d0-8057-f3c81604d138",
   "metadata": {},
   "outputs": [
    {
     "data": {
      "text/html": [
       "<pre class=language-r><code>function (x, df1, df2, ncp, log = FALSE) \n",
       "{\n",
       "<span style=white-space:pre-wrap>    if (missing(ncp)) </span>\n",
       "<span style=white-space:pre-wrap>        .Call(C_df, x, df1, df2, log)</span>\n",
       "<span style=white-space:pre-wrap>    else .Call(C_dnf, x, df1, df2, ncp, log)</span>\n",
       "}</code></pre>"
      ],
      "text/latex": [
       "\\begin{minted}{r}\n",
       "function (x, df1, df2, ncp, log = FALSE) \n",
       "\\{\n",
       "    if (missing(ncp)) \n",
       "        .Call(C\\_df, x, df1, df2, log)\n",
       "    else .Call(C\\_dnf, x, df1, df2, ncp, log)\n",
       "\\}\n",
       "\\end{minted}"
      ],
      "text/markdown": [
       "```r\n",
       "function (x, df1, df2, ncp, log = FALSE) \n",
       "{\n",
       "    if (missing(ncp)) \n",
       "        .Call(C_df, x, df1, df2, log)\n",
       "    else .Call(C_dnf, x, df1, df2, ncp, log)\n",
       "}\n",
       "```"
      ],
      "text/plain": [
       "function (x, df1, df2, ncp, log = FALSE) \n",
       "{\n",
       "    if (missing(ncp)) \n",
       "        .Call(C_df, x, df1, df2, log)\n",
       "    else .Call(C_dnf, x, df1, df2, ncp, log)\n",
       "}\n",
       "<bytecode: 0x55aa62dcc400>\n",
       "<environment: namespace:stats>"
      ]
     },
     "metadata": {},
     "output_type": "display_data"
    }
   ],
   "source": [
    "gdp_url <- \"https://stats.oecd.org/sdmx-json/data/DP_LIVE/.GDP.TOT.USD_CAP.A/OECD?contentType=csv&detail=code&separator=comma&csv-lang=en&startPeriod=2000&endPeriod=2021\"\n",
    "\n",
    "df"
   ]
  },
  {
   "cell_type": "markdown",
   "id": "da915499-7600-4a34-abd3-65fb816421a8",
   "metadata": {},
   "source": [
    "<h3>Methods: Plan</h3>\n",
    "<hr>"
   ]
  },
  {
   "cell_type": "code",
   "execution_count": null,
   "id": "88fee2cd-1a23-4694-9de5-cdb70afb6f6a",
   "metadata": {},
   "outputs": [],
   "source": []
  },
  {
   "cell_type": "markdown",
   "id": "ad38fd7e-12df-4ef2-bf42-949864c5a4c4",
   "metadata": {},
   "source": [
    "<h3>References</h3>\n",
    "<hr>"
   ]
  },
  {
   "cell_type": "code",
   "execution_count": null,
   "id": "eeb8ea7c-dac1-4716-981a-a1a9e1867d5f",
   "metadata": {},
   "outputs": [],
   "source": []
  }
 ],
 "metadata": {
  "kernelspec": {
   "display_name": "R",
   "language": "R",
   "name": "ir"
  },
  "language_info": {
   "codemirror_mode": "r",
   "file_extension": ".r",
   "mimetype": "text/x-r-source",
   "name": "R",
   "pygments_lexer": "r",
   "version": "4.1.3"
  }
 },
 "nbformat": 4,
 "nbformat_minor": 5
}
