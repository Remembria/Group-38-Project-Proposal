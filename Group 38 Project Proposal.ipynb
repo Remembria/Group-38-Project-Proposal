{
 "cells": [
  {
   "cell_type": "markdown",
   "id": "4ab20575-b166-4c12-ab80-1ed18587a97b",
   "metadata": {},
   "source": [
    "<h1>Group 38 Project Proposal: Determining the Connection Between Country Wealth and Tuberculosis Mortality <h1>\n",
    "    \n",
    "<img src=\"images/TB_img.jpg\" alt=\"Tuberculosis under EM Microscope\" width = \"1000\"/>\n",
    "    \n",
    "<font size=\"2\"> <i>image attribution</i>: NIAID Mycobacterium tuberculosis Bacteria, the Cause of TB, CC BY 2.0 <https://creativecommons.org/licenses/by/4.0>, via Flickr at <https://www.flickr.com/photos/niaid/51637606937/in/photostream/> </font>"
   ]
  },
  {
   "cell_type": "markdown",
   "id": "d74482ba-2b36-44c4-9f24-6c5b81ebd32d",
   "metadata": {},
   "source": [
    "<h3>Introduction</h3>\n",
    "<hr>"
   ]
  },
  {
   "cell_type": "markdown",
   "id": "d5d9ad27-4edf-4b15-ab5d-84014bd8e9c7",
   "metadata": {},
   "source": [
    "*Total Word Count:* ---"
   ]
  },
  {
   "cell_type": "markdown",
   "id": "696bf996-d75b-43ea-a536-8dd9f9577b5a",
   "metadata": {},
   "source": [
    "Tuberculosis is an airborne respiratory disease that affects mainly the lungs. It can also affect other organs and the symptoms differ depending on where the infection is. Tuberculosis is spread by germs that are released into the air when someone coughs or sneezes. People who breathe in this air may not necessarily become sick because the germs are not active, although they may become sick later on. When the germs are active they divide and attack organ tissues, causing severe threats.  \n",
    "HIV (Human Immunodeficiency Virus) is an infection that affects the immune system. Symptoms include flu-like symptoms, chills, rash, and fatigue. HIV spreads through sex and sharing needles. More serious stages of HIV develop into AIDS (Acquired immunodeficiency syndrome). There’s currently no cure or vaccine for HIV. \n",
    "Due to a decrease in the functionality of the immune system in HIV patients, they are more likely to become sick with other diseases, especially tuberculosis. \n",
    "\n",
    "Preventive measures and access to healthcare services are of utmost importance when it comes to reducing these infections in the population. However, these factors are not always accessible in every part of the world. In this observational study, we aim to compare the number of deaths due to Tuberculosis across countries in different World Bank income groups, specifically between low-income countries and high-income countries. By doing this we can make conclusions about how much a country invests in healthcare can affect accessibility and the deaths caused by diseases such as Tuberculosis. \n",
    "The dataset that we are using is “Tuberculosis > Mortality Data by Country” (source: https://apps.who.int/gho/data/view.main.57020ALL?lang=en)\n",
    "The data file is xmart.csv\n",
    "\n",
    "**The columns in the full dataset are: **  \n",
    "**Country**  \n",
    "**Year**  \n",
    "**Number of deaths due to tuberculosis, excluding HIV**: number of deaths caused by tuberculosis in a given year, rounded to 2 significant figures  \n",
    "**Deaths due to tuberculosis among HIV-negative people (per 100 000 population)**: number of deaths caused by tuberculosis that have been tested negative for HIV in a given year\n",
    "\n"
   ]
  },
  {
   "cell_type": "markdown",
   "id": "353092a2-4100-4a1e-8e1d-2d11499737a4",
   "metadata": {},
   "source": [
    "<h3>Research Question</h3>\n",
    "<hr>\n",
    "We aim to compare the mean Tuberculosis deaths of countries with higher GDP vs countries with lower GDP. This will provide an insight into the impact of financial infrastructure and healthcare accessibility on mortality when infected with Tuberculosis."
   ]
  },
  {
   "cell_type": "markdown",
   "id": "754dfec3-f7ec-47eb-8ffe-c77626386fd0",
   "metadata": {},
   "source": [
    "<h3>Preliminary Results</h3>\n",
    "<hr>"
   ]
  },
  {
   "cell_type": "code",
   "execution_count": 286,
   "id": "fa034e23-9fd5-46be-bd05-ec73665e4456",
   "metadata": {},
   "outputs": [],
   "source": [
    "library(tidyverse)\n",
    "library(broom)\n",
    "library(repr)\n",
    "library(digest)\n",
    "library(infer)\n",
    "library(gridExtra)\n",
    "library(readxl)\n",
    "options(repr.matrix.max.rows = 6)\n",
    "options(repr.matrix.max.cols = 3)"
   ]
  },
  {
   "cell_type": "markdown",
   "id": "576508c5-e0d4-47ab-b479-abeb0bf4a106",
   "metadata": {},
   "source": [
    "For this investigation, we use two datasets: the **World Health Orginization (WHO)** Tuberculosis Mortality dataset, and the **OECD** GDP by country dataset.\n",
    "\n",
    "We begin with the **WHO** dataset, which we'll wrangle into tidy data before encorperating the **OECD** GDP data."
   ]
  },
  {
   "cell_type": "code",
   "execution_count": 289,
   "id": "2419291f-f800-4e44-ab4d-5074f088b1a5",
   "metadata": {},
   "outputs": [
    {
     "data": {
      "text/html": [
       "<table class=\"dataframe\">\n",
       "<caption>A data.frame: 6 × 4</caption>\n",
       "<thead>\n",
       "\t<tr><th></th><th scope=col>Country</th><th scope=col>Year</th><th scope=col>⋯</th><th scope=col>Deaths.due.to.tuberculosis.among.HIV.negative.people..per.100.000.population.</th></tr>\n",
       "\t<tr><th></th><th scope=col>&lt;chr&gt;</th><th scope=col>&lt;int&gt;</th><th scope=col>⋯</th><th scope=col>&lt;chr&gt;</th></tr>\n",
       "</thead>\n",
       "<tbody>\n",
       "\t<tr><th scope=row>1</th><td>Afghanistan</td><td>2021</td><td>⋯</td><td>31 [18-47]</td></tr>\n",
       "\t<tr><th scope=row>2</th><td>Afghanistan</td><td>2020</td><td>⋯</td><td>34 [20-52]</td></tr>\n",
       "\t<tr><th scope=row>3</th><td>Afghanistan</td><td>2019</td><td>⋯</td><td>26 [15-39]</td></tr>\n",
       "\t<tr><th scope=row>4</th><td>Afghanistan</td><td>2018</td><td>⋯</td><td>29 [17-44]</td></tr>\n",
       "\t<tr><th scope=row>5</th><td>Afghanistan</td><td>2017</td><td>⋯</td><td>30 [18-45]</td></tr>\n",
       "\t<tr><th scope=row>6</th><td>Afghanistan</td><td>2016</td><td>⋯</td><td>34 [20-51]</td></tr>\n",
       "</tbody>\n",
       "</table>\n"
      ],
      "text/latex": [
       "A data.frame: 6 × 4\n",
       "\\begin{tabular}{r|llll}\n",
       "  & Country & Year & ⋯ & Deaths.due.to.tuberculosis.among.HIV.negative.people..per.100.000.population.\\\\\n",
       "  & <chr> & <int> & ⋯ & <chr>\\\\\n",
       "\\hline\n",
       "\t1 & Afghanistan & 2021 & ⋯ & 31 {[}18-47{]}\\\\\n",
       "\t2 & Afghanistan & 2020 & ⋯ & 34 {[}20-52{]}\\\\\n",
       "\t3 & Afghanistan & 2019 & ⋯ & 26 {[}15-39{]}\\\\\n",
       "\t4 & Afghanistan & 2018 & ⋯ & 29 {[}17-44{]}\\\\\n",
       "\t5 & Afghanistan & 2017 & ⋯ & 30 {[}18-45{]}\\\\\n",
       "\t6 & Afghanistan & 2016 & ⋯ & 34 {[}20-51{]}\\\\\n",
       "\\end{tabular}\n"
      ],
      "text/markdown": [
       "\n",
       "A data.frame: 6 × 4\n",
       "\n",
       "| <!--/--> | Country &lt;chr&gt; | Year &lt;int&gt; | ⋯ ⋯ | Deaths.due.to.tuberculosis.among.HIV.negative.people..per.100.000.population. &lt;chr&gt; |\n",
       "|---|---|---|---|---|\n",
       "| 1 | Afghanistan | 2021 | ⋯ | 31 [18-47] |\n",
       "| 2 | Afghanistan | 2020 | ⋯ | 34 [20-52] |\n",
       "| 3 | Afghanistan | 2019 | ⋯ | 26 [15-39] |\n",
       "| 4 | Afghanistan | 2018 | ⋯ | 29 [17-44] |\n",
       "| 5 | Afghanistan | 2017 | ⋯ | 30 [18-45] |\n",
       "| 6 | Afghanistan | 2016 | ⋯ | 34 [20-51] |\n",
       "\n"
      ],
      "text/plain": [
       "  Country     Year ⋯\n",
       "1 Afghanistan 2021 ⋯\n",
       "2 Afghanistan 2020 ⋯\n",
       "3 Afghanistan 2019 ⋯\n",
       "4 Afghanistan 2018 ⋯\n",
       "5 Afghanistan 2017 ⋯\n",
       "6 Afghanistan 2016 ⋯\n",
       "  Deaths.due.to.tuberculosis.among.HIV.negative.people..per.100.000.population.\n",
       "1 31 [18-47]                                                                   \n",
       "2 34 [20-52]                                                                   \n",
       "3 26 [15-39]                                                                   \n",
       "4 29 [17-44]                                                                   \n",
       "5 30 [18-45]                                                                   \n",
       "6 34 [20-51]                                                                   "
      ]
     },
     "metadata": {},
     "output_type": "display_data"
    }
   ],
   "source": [
    "# URL of the WHO dataset csv file\n",
    "# tb_url <- \"https://github.com/Remembria/Group-38-Project-Proposal/raw/main/xmart.csv\"\n",
    "tb_url <- \"https://apps.who.int/gho/athena/data/xmart.csv?target=GHO/MDG_0000000017,TB_e_mort_exc_tbhiv_num&profile=crosstable&filter=COUNTRY:*;REGION:*&ead=&x-sideaxis=COUNTRY;YEAR&x-topaxis=GHO\"\n",
    "# Reading this csv file into a dataframe\n",
    "tb_df <- read.csv(tb_url)\n",
    "\n",
    "head(tb_df)"
   ]
  },
  {
   "cell_type": "markdown",
   "id": "cb7642a0-f868-49b3-91e2-1c8977531019",
   "metadata": {},
   "source": [
    "As of now, however, this dataset is unprocessed, and contains unnecessary error bars. We fix this with a series of operations to wrangle our data into three columns: *Country*, *Year*, and *Deaths due to TB per 100,000*, taking data exclusively from 2020 to reflect the current GDP based tuberculosis mortality trends."
   ]
  },
  {
   "cell_type": "code",
   "execution_count": 290,
   "id": "8d1a2691-c5e9-43ca-8787-7043882d8338",
   "metadata": {},
   "outputs": [],
   "source": [
    "#Rename the data columns so we can easily work with them \n",
    "tb_df <- tb_df %>%\n",
    "    # Selecting the columns of interest\n",
    "    select(Country, Year, Deaths.due.to.tuberculosis.among.HIV.negative.people..per.100.000.population.) %>%\n",
    "    # Renaming columns to improve readability \n",
    "    rename(Deaths_due_to_TB_per_100_000 = Deaths.due.to.tuberculosis.among.HIV.negative.people..per.100.000.population.) %>%\n",
    "    # Setting the year to 2020\n",
    "    filter(Year == 2020) %>%\n",
    "    # Removing the Year column now that 2020 has been selected\n",
    "    select(-Year)"
   ]
  },
  {
   "cell_type": "markdown",
   "id": "db009f83-38f0-4a41-8547-108adf894095",
   "metadata": {},
   "source": [
    "To remove the error bars, we use REGEX and the str_remove function, converting the column's data type to double in the process"
   ]
  },
  {
   "cell_type": "code",
   "execution_count": 291,
   "id": "d2f3e5a7-f4c6-46b9-8c89-3d9f07af8997",
   "metadata": {},
   "outputs": [
    {
     "data": {
      "text/html": [
       "<table class=\"dataframe\">\n",
       "<caption>A data.frame: 193 × 2</caption>\n",
       "<thead>\n",
       "\t<tr><th scope=col>Country</th><th scope=col>Deaths_due_to_TB_per_100_000</th></tr>\n",
       "\t<tr><th scope=col>&lt;chr&gt;</th><th scope=col>&lt;dbl&gt;</th></tr>\n",
       "</thead>\n",
       "<tbody>\n",
       "\t<tr><td>Afghanistan</td><td>34.00</td></tr>\n",
       "\t<tr><td>Albania    </td><td> 0.32</td></tr>\n",
       "\t<tr><td>Algeria    </td><td> 9.00</td></tr>\n",
       "\t<tr><td>⋮</td><td>⋮</td></tr>\n",
       "\t<tr><td>Yemen   </td><td> 9.5</td></tr>\n",
       "\t<tr><td>Zambia  </td><td>32.0</td></tr>\n",
       "\t<tr><td>Zimbabwe</td><td>12.0</td></tr>\n",
       "</tbody>\n",
       "</table>\n"
      ],
      "text/latex": [
       "A data.frame: 193 × 2\n",
       "\\begin{tabular}{ll}\n",
       " Country & Deaths\\_due\\_to\\_TB\\_per\\_100\\_000\\\\\n",
       " <chr> & <dbl>\\\\\n",
       "\\hline\n",
       "\t Afghanistan & 34.00\\\\\n",
       "\t Albania     &  0.32\\\\\n",
       "\t Algeria     &  9.00\\\\\n",
       "\t ⋮ & ⋮\\\\\n",
       "\t Yemen    &  9.5\\\\\n",
       "\t Zambia   & 32.0\\\\\n",
       "\t Zimbabwe & 12.0\\\\\n",
       "\\end{tabular}\n"
      ],
      "text/markdown": [
       "\n",
       "A data.frame: 193 × 2\n",
       "\n",
       "| Country &lt;chr&gt; | Deaths_due_to_TB_per_100_000 &lt;dbl&gt; |\n",
       "|---|---|\n",
       "| Afghanistan | 34.00 |\n",
       "| Albania     |  0.32 |\n",
       "| Algeria     |  9.00 |\n",
       "| ⋮ | ⋮ |\n",
       "| Yemen    |  9.5 |\n",
       "| Zambia   | 32.0 |\n",
       "| Zimbabwe | 12.0 |\n",
       "\n"
      ],
      "text/plain": [
       "    Country     Deaths_due_to_TB_per_100_000\n",
       "1   Afghanistan 34.00                       \n",
       "2   Albania      0.32                       \n",
       "3   Algeria      9.00                       \n",
       "⋮   ⋮           ⋮                           \n",
       "191 Yemen        9.5                        \n",
       "192 Zambia      32.0                        \n",
       "193 Zimbabwe    12.0                        "
      ]
     },
     "metadata": {},
     "output_type": "display_data"
    }
   ],
   "source": [
    "tb_df <- tb_df %>%\n",
    "    # Removing all error bars with \" \\\\[.*\\\\]\" in regex, and all spaces with str_remove_all(..., \" \")\n",
    "    mutate(Deaths_due_to_TB_per_100_000 = str_remove_all(str_remove(Deaths_due_to_TB_per_100_000, \" \\\\[.*\\\\]\"), \" \")) %>%\n",
    "    # Converting the column to be of type double\n",
    "    mutate(Deaths_due_to_TB_per_100_000 = as.double(Deaths_due_to_TB_per_100_000)) %>%\n",
    "    # NA values removed for safety\n",
    "    filter(!is.na(Deaths_due_to_TB_per_100_000))\n",
    "tb_df"
   ]
  },
  {
   "cell_type": "markdown",
   "id": "bcb056d1-b158-4563-88d9-9164c9b7c560",
   "metadata": {},
   "source": [
    "We will now begin our next phase of the wrangling process - importing the HDI database.\n",
    "\n",
    "\n",
    "For the purposes of this investigation, following the classification of the United Nations Development Reports (UNDP), we consider a high HDI to be values **>0.700**, and low to be HDI values **<0.550**"
   ]
  },
  {
   "cell_type": "code",
   "execution_count": 292,
   "id": "106c32f8-86d9-47d0-8057-f3c81604d138",
   "metadata": {},
   "outputs": [
    {
     "name": "stderr",
     "output_type": "stream",
     "text": [
      "Warning message in mask$eval_all_mutate(quo):\n",
      "“NAs introduced by coercion”\n"
     ]
    },
    {
     "data": {
      "text/html": [
       "<table class=\"dataframe\">\n",
       "<caption>A tibble: 191 × 2</caption>\n",
       "<thead>\n",
       "\t<tr><th scope=col>Country</th><th scope=col>HDI</th></tr>\n",
       "\t<tr><th scope=col>&lt;chr&gt;</th><th scope=col>&lt;dbl&gt;</th></tr>\n",
       "</thead>\n",
       "<tbody>\n",
       "\t<tr><td>Switzerland</td><td>0.956</td></tr>\n",
       "\t<tr><td>Norway     </td><td>0.959</td></tr>\n",
       "\t<tr><td>Iceland    </td><td>0.957</td></tr>\n",
       "\t<tr><td>⋮</td><td>⋮</td></tr>\n",
       "\t<tr><td>Niger      </td><td>0.401</td></tr>\n",
       "\t<tr><td>Chad       </td><td>0.397</td></tr>\n",
       "\t<tr><td>South Sudan</td><td>0.386</td></tr>\n",
       "</tbody>\n",
       "</table>\n"
      ],
      "text/latex": [
       "A tibble: 191 × 2\n",
       "\\begin{tabular}{ll}\n",
       " Country & HDI\\\\\n",
       " <chr> & <dbl>\\\\\n",
       "\\hline\n",
       "\t Switzerland & 0.956\\\\\n",
       "\t Norway      & 0.959\\\\\n",
       "\t Iceland     & 0.957\\\\\n",
       "\t ⋮ & ⋮\\\\\n",
       "\t Niger       & 0.401\\\\\n",
       "\t Chad        & 0.397\\\\\n",
       "\t South Sudan & 0.386\\\\\n",
       "\\end{tabular}\n"
      ],
      "text/markdown": [
       "\n",
       "A tibble: 191 × 2\n",
       "\n",
       "| Country &lt;chr&gt; | HDI &lt;dbl&gt; |\n",
       "|---|---|\n",
       "| Switzerland | 0.956 |\n",
       "| Norway      | 0.959 |\n",
       "| Iceland     | 0.957 |\n",
       "| ⋮ | ⋮ |\n",
       "| Niger       | 0.401 |\n",
       "| Chad        | 0.397 |\n",
       "| South Sudan | 0.386 |\n",
       "\n"
      ],
      "text/plain": [
       "    Country     HDI  \n",
       "1   Switzerland 0.956\n",
       "2   Norway      0.959\n",
       "3   Iceland     0.957\n",
       "⋮   ⋮           ⋮    \n",
       "189 Niger       0.401\n",
       "190 Chad        0.397\n",
       "191 South Sudan 0.386"
      ]
     },
     "metadata": {},
     "output_type": "display_data"
    }
   ],
   "source": [
    "# URL of the UNDP HDI Dataset\n",
    "hdi_url <- \"https://hdr.undp.org/sites/default/files/2021-22_HDR/HDR21-22_Statistical_Annex_HDI_Trends_Table.xlsx\"\n",
    "# We download this dataset first as read_excel works with local files\n",
    "download.file(hdi_url, destfile = \"HDI_Global_Database.xlsx\") \n",
    "\n",
    "# SuppressMessages used here to prevent read_excel from printing every column in sets to a default name \n",
    "suppressMessages(\n",
    "hdi_df <- read_excel(\"HDI_Global_Database.xlsx\", sheet = 1, col_names = TRUE))\n",
    "\n",
    "# Make.names removes the spaces from the column names \n",
    "names(hdi_df) = make.names(names(hdi_df))\n",
    "\n",
    "hdi_df <- hdi_df %>%\n",
    "    #Here we select the two columns of interest\n",
    "    select(\"Table.2..Human.Development.Index.trends..1990.2021\", \"...15\") %>%\n",
    "    #To make them easier to work with, we rename them to Country and HDI\n",
    "    rename(\"Country\" = \"Table.2..Human.Development.Index.trends..1990.2021\" , \"HDI\" = \"...15\") %>%\n",
    "    #Turning the type of HDI from <chr> to <dbl>\n",
    "    mutate(HDI = as.double(HDI)) %>%\n",
    "    #Removing NA values\n",
    "    filter(!is.na(HDI))\n",
    "    \n",
    "# Because this data formats poorly (due to spacings added for visual aesthetic in the .xlsx file), \n",
    "# we remove non-relevant data columns here to fix this issue\n",
    "hdi_df = hdi_df[-c(1, 193, 194, 195, 196, 197, 198, 199, 200, 201, 202, 203, 204, 205, 206, 207, 208, 209, 210),]\n",
    "hdi_df"
   ]
  },
  {
   "cell_type": "markdown",
   "id": "1867e8f7-4325-4810-8f99-75a1bd336fbe",
   "metadata": {},
   "source": [
    "Before we merge these two datasets, however, there is one large problem - naming conventions. Different databases use different names for certain countries *(e.g. Democratic Republic of Congo vs Congo (Democratic Republic of))*, which prevents us from merging immediately"
   ]
  },
  {
   "cell_type": "markdown",
   "id": "3dbbed86-4c95-468a-8219-43121d0553b2",
   "metadata": {},
   "source": [
    "To get a picture of what names are different, we call R's setdiff function on the two Country columns"
   ]
  },
  {
   "cell_type": "code",
   "execution_count": 293,
   "id": "9b8ff4b7-1833-48e2-b8aa-35ce6c3c2742",
   "metadata": {},
   "outputs": [
    {
     "data": {
      "text/html": [
       "<style>\n",
       ".list-inline {list-style: none; margin:0; padding: 0}\n",
       ".list-inline>li {display: inline-block}\n",
       ".list-inline>li:not(:last-child)::after {content: \"\\00b7\"; padding: 0 .5ex}\n",
       "</style>\n",
       "<ol class=list-inline><li>'Cook Islands'</li><li>'Democratic Republic of the Congo'</li><li>'Eswatini'</li><li>'Monaco'</li><li>'Nauru'</li><li>'Niue'</li><li>'Republic of Korea'</li><li>'Republic of Moldova'</li><li>'Somalia'</li><li>'United Kingdom of Great Britain and Northern Ireland'</li><li>'United Republic of Tanzania'</li><li>'United States of America'</li></ol>\n"
      ],
      "text/latex": [
       "\\begin{enumerate*}\n",
       "\\item 'Cook Islands'\n",
       "\\item 'Democratic Republic of the Congo'\n",
       "\\item 'Eswatini'\n",
       "\\item 'Monaco'\n",
       "\\item 'Nauru'\n",
       "\\item 'Niue'\n",
       "\\item 'Republic of Korea'\n",
       "\\item 'Republic of Moldova'\n",
       "\\item 'Somalia'\n",
       "\\item 'United Kingdom of Great Britain and Northern Ireland'\n",
       "\\item 'United Republic of Tanzania'\n",
       "\\item 'United States of America'\n",
       "\\end{enumerate*}\n"
      ],
      "text/markdown": [
       "1. 'Cook Islands'\n",
       "2. 'Democratic Republic of the Congo'\n",
       "3. 'Eswatini'\n",
       "4. 'Monaco'\n",
       "5. 'Nauru'\n",
       "6. 'Niue'\n",
       "7. 'Republic of Korea'\n",
       "8. 'Republic of Moldova'\n",
       "9. 'Somalia'\n",
       "10. 'United Kingdom of Great Britain and Northern Ireland'\n",
       "11. 'United Republic of Tanzania'\n",
       "12. 'United States of America'\n",
       "\n",
       "\n"
      ],
      "text/plain": [
       " [1] \"Cook Islands\"                                        \n",
       " [2] \"Democratic Republic of the Congo\"                    \n",
       " [3] \"Eswatini\"                                            \n",
       " [4] \"Monaco\"                                              \n",
       " [5] \"Nauru\"                                               \n",
       " [6] \"Niue\"                                                \n",
       " [7] \"Republic of Korea\"                                   \n",
       " [8] \"Republic of Moldova\"                                 \n",
       " [9] \"Somalia\"                                             \n",
       "[10] \"United Kingdom of Great Britain and Northern Ireland\"\n",
       "[11] \"United Republic of Tanzania\"                         \n",
       "[12] \"United States of America\"                            "
      ]
     },
     "metadata": {},
     "output_type": "display_data"
    }
   ],
   "source": [
    "setdiff(tb_df$Country, hdi_df$Country)"
   ]
  },
  {
   "cell_type": "markdown",
   "id": "16855a87-f211-475e-a80c-65e8eb919cf2",
   "metadata": {},
   "source": [
    "We solve this using a simple case_when function, which replaces the names used in the OECD HDI dataset with those used by WHO in the tuberculosis dataframe. Countries unaccounted for in the case_when function below are those for which HDI data is not available."
   ]
  },
  {
   "cell_type": "code",
   "execution_count": 294,
   "id": "92d1ca29-007e-48ad-b23f-0b0677544b62",
   "metadata": {},
   "outputs": [],
   "source": [
    "hdi_df <- hdi_df %>%\n",
    "    mutate(Country = case_when(Country == \"Congo (Democratic Republic of the)\" ~ \"Democratic Republic of the Congo\",\n",
    "                                  Country == \"Eswatini (Kingdom of)\" ~ \"Eswatini\",\n",
    "                                  Country == \"Korea (Republic of)\" ~ \"Republic of Korea\",\n",
    "                                  Country == \"Moldova (Republic of)\" ~ \"Republic of Moldova\",\n",
    "                                  Country == \"United Kingdom\" ~ \"United Kingdom of Great Britain and Northern Ireland\",\n",
    "                                  Country == \"Tanzania (United Republic of)\" ~ \"United Republic of Tanzania\",\n",
    "                                  Country == \"United States\" ~ \"United States of America\",\n",
    "                                  TRUE ~ Country))"
   ]
  },
  {
   "cell_type": "markdown",
   "id": "88b45084-374c-4351-971d-825370e2743d",
   "metadata": {},
   "source": [
    "*We now merge the two datasets*"
   ]
  },
  {
   "cell_type": "code",
   "execution_count": 295,
   "id": "d8d47bdd-bcf7-439e-be7a-6cfb8f771b3d",
   "metadata": {},
   "outputs": [
    {
     "data": {
      "text/html": [
       "<table class=\"dataframe\">\n",
       "<caption>A data.frame: 188 × 3</caption>\n",
       "<thead>\n",
       "\t<tr><th scope=col>Country</th><th scope=col>Deaths_due_to_TB_per_100_000</th><th scope=col>HDI</th></tr>\n",
       "\t<tr><th scope=col>&lt;chr&gt;</th><th scope=col>&lt;dbl&gt;</th><th scope=col>&lt;dbl&gt;</th></tr>\n",
       "</thead>\n",
       "<tbody>\n",
       "\t<tr><td>Afghanistan</td><td>34.00</td><td>0.483</td></tr>\n",
       "\t<tr><td>Albania    </td><td> 0.32</td><td>0.794</td></tr>\n",
       "\t<tr><td>Algeria    </td><td> 9.00</td><td>0.736</td></tr>\n",
       "\t<tr><td>⋮</td><td>⋮</td><td>⋮</td></tr>\n",
       "\t<tr><td>Yemen   </td><td> 9.5</td><td>0.46</td></tr>\n",
       "\t<tr><td>Zambia  </td><td>32.0</td><td>0.57</td></tr>\n",
       "\t<tr><td>Zimbabwe</td><td>12.0</td><td>0.60</td></tr>\n",
       "</tbody>\n",
       "</table>\n"
      ],
      "text/latex": [
       "A data.frame: 188 × 3\n",
       "\\begin{tabular}{lll}\n",
       " Country & Deaths\\_due\\_to\\_TB\\_per\\_100\\_000 & HDI\\\\\n",
       " <chr> & <dbl> & <dbl>\\\\\n",
       "\\hline\n",
       "\t Afghanistan & 34.00 & 0.483\\\\\n",
       "\t Albania     &  0.32 & 0.794\\\\\n",
       "\t Algeria     &  9.00 & 0.736\\\\\n",
       "\t ⋮ & ⋮ & ⋮\\\\\n",
       "\t Yemen    &  9.5 & 0.46\\\\\n",
       "\t Zambia   & 32.0 & 0.57\\\\\n",
       "\t Zimbabwe & 12.0 & 0.60\\\\\n",
       "\\end{tabular}\n"
      ],
      "text/markdown": [
       "\n",
       "A data.frame: 188 × 3\n",
       "\n",
       "| Country &lt;chr&gt; | Deaths_due_to_TB_per_100_000 &lt;dbl&gt; | HDI &lt;dbl&gt; |\n",
       "|---|---|---|\n",
       "| Afghanistan | 34.00 | 0.483 |\n",
       "| Albania     |  0.32 | 0.794 |\n",
       "| Algeria     |  9.00 | 0.736 |\n",
       "| ⋮ | ⋮ | ⋮ |\n",
       "| Yemen    |  9.5 | 0.46 |\n",
       "| Zambia   | 32.0 | 0.57 |\n",
       "| Zimbabwe | 12.0 | 0.60 |\n",
       "\n"
      ],
      "text/plain": [
       "    Country     Deaths_due_to_TB_per_100_000 HDI  \n",
       "1   Afghanistan 34.00                        0.483\n",
       "2   Albania      0.32                        0.794\n",
       "3   Algeria      9.00                        0.736\n",
       "⋮   ⋮           ⋮                            ⋮    \n",
       "186 Yemen        9.5                         0.46 \n",
       "187 Zambia      32.0                         0.57 \n",
       "188 Zimbabwe    12.0                         0.60 "
      ]
     },
     "metadata": {},
     "output_type": "display_data"
    }
   ],
   "source": [
    "tb_hdi_df <- merge(tb_df, hdi_df,by = \"Country\", all.x = FALSE)\n",
    "\n",
    "tb_hdi_df"
   ]
  },
  {
   "cell_type": "code",
   "execution_count": null,
   "id": "553414af-b645-483f-b5fe-4e92449756c8",
   "metadata": {},
   "outputs": [],
   "source": []
  },
  {
   "cell_type": "markdown",
   "id": "da915499-7600-4a34-abd3-65fb816421a8",
   "metadata": {},
   "source": [
    "<h3>Methods: Plan</h3>\n",
    "<hr>"
   ]
  },
  {
   "cell_type": "markdown",
   "id": "041dc80a-61a6-4725-a1ab-ac5797c7eb2f",
   "metadata": {},
   "source": [
    "**Overview:**  \n",
    "Our report provides valuable insights into the relationship between two deadly diseases, HIV and TB, and highlights the impact of financial infrastructure on the prevalence of these diseases in different countries. By utilizing data from a trusted source such as the World Health Organization's Global Health Observatory, our study's findings are reliable and credible.  \n",
    "In addition, our study employs rigorous research methods to analyze and interpret the data, ensuring that the findings are robust and credible. Our report's methodology and analytical techniques are transparent, making it possible for others to replicate our study and validate the results.  \n",
    "Finally, our report is transparent about any limitations or potential sources of bias in the data or methodology, providing readers with a clear understanding of the study's strengths and weaknesses. This transparency adds to the report's credibility and enhances its value as a resource for healthcare policymakers, practitioners, and researchers."
   ]
  },
  {
   "cell_type": "markdown",
   "id": "556aaeb6-c065-4f1a-a6b7-06a05cb76ead",
   "metadata": {},
   "source": [
    "**Expected Findings**  \n",
    "We expect to find a higher incidence of tuberculosis (TB) among HIV-negative patients in third-world nations and countries with inadequate healthcare infrastructure. This is because TB is more prevalent in such areas due to various factors such as poverty, malnutrition, overcrowding, and weak healthcare systems. In addition, individuals living with HIV are more susceptible to contracting TB due to their weakened immune systems. As a result, our study may reveal a significant association between the country of residence and TB prevalence among HIV-negative patients, highlighting the need for improved healthcare infrastructure in these regions to reduce the burden of TB.\n"
   ]
  },
  {
   "cell_type": "markdown",
   "id": "a89dba2a-c0a3-47a1-a9d7-cdbb716de89a",
   "metadata": {},
   "source": [
    "**Impacts**  \n",
    "Tuberculosis is one of the top 10 causes of death worldwide, and it disproportionately affects people in low and middle-income countries. By shedding light on the link between HIV-negative status, country of residence, and tuberculosis prevalence, our study could help policymakers and healthcare providers understand the need for targeted interventions to reduce the incidence of TB in these areas. This could include initiatives such as improved diagnostic and treatment methods, increased access to healthcare, and better public health education campaigns.  \n",
    "Moreover, our study could contribute to the growing body of research on the epidemiology of tuberculosis, which could inform global efforts to control and eliminate the disease.\n"
   ]
  },
  {
   "cell_type": "markdown",
   "id": "157e1bb5-f031-48ff-a911-6bbd121cc081",
   "metadata": {},
   "source": [
    "**Future questions**  \n",
    "1. Are there specific subpopulations within HIV-negative patients, such as age groups, gender, or socio-economic status, that are particularly vulnerable to tuberculosis in certain countries?\n",
    "2. How do cultural beliefs, health-seeking behaviors, and social determinants of health affect tuberculosis prevalence among HIV-negative patients in different countries, and how can public health education campaigns be tailored to address these factors?\n",
    "3. What is the impact of improved healthcare infrastructure, including increased access to diagnostic and treatment facilities, on the incidence of tuberculosis among HIV-negative patients in different countries?\n"
   ]
  },
  {
   "cell_type": "markdown",
   "id": "ad38fd7e-12df-4ef2-bf42-949864c5a4c4",
   "metadata": {},
   "source": [
    "<h3>References</h3>\n",
    "<hr>"
   ]
  },
  {
   "cell_type": "markdown",
   "id": "8aec1e19-6687-4c15-9605-acead94408e1",
   "metadata": {},
   "source": [
    "https://www.cdc.gov/tb/topic/basics/tbhivcoinfection.htm  \n",
    "\n",
    "https://www.cdc.gov/tb/publications/factsheets/general/tb.htm#:~:text=Tuberculosis%20(TB)%20is%20a%20disease,they%20do%20not%20get%20treatment. \n",
    "\n",
    "https://www.cdc.gov/hiv/basics/whatishiv.html#:~:text=What%20is%20HIV%3F,they%20have%20it%20for%20life."
   ]
  }
 ],
 "metadata": {
  "kernelspec": {
   "display_name": "R",
   "language": "R",
   "name": "ir"
  },
  "language_info": {
   "codemirror_mode": "r",
   "file_extension": ".r",
   "mimetype": "text/x-r-source",
   "name": "R",
   "pygments_lexer": "r",
   "version": "4.1.3"
  }
 },
 "nbformat": 4,
 "nbformat_minor": 5
}
