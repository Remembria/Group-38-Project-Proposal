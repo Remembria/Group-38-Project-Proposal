{
 "cells": [
  {
   "cell_type": "markdown",
   "id": "4ab20575-b166-4c12-ab80-1ed18587a97b",
   "metadata": {},
   "source": [
    "<h1>Group 38 Project Proposal: Determining the Connection Between Country Wealth and Tuberculosis Mortality <h1>\n",
    "    \n",
    "<img src=\"images/TB_img.jpg\" alt=\"Tuberculosis under EM Microscope\" width = \"1000\"/>\n",
    "    \n",
    "<font size=\"2\"> <i>image attribution</i>: NIAID Mycobacterium tuberculosis Bacteria, the Cause of TB, CC BY 2.0 <https://creativecommons.org/licenses/by/4.0>, via Flickr at <https://www.flickr.com/photos/niaid/51637606937/in/photostream/> </font>"
   ]
  },
  {
   "cell_type": "markdown",
   "id": "d74482ba-2b36-44c4-9f24-6c5b81ebd32d",
   "metadata": {},
   "source": [
    "<h3>Introduction</h3>\n",
    "<hr>"
   ]
  },
  {
   "cell_type": "markdown",
   "id": "d5d9ad27-4edf-4b15-ab5d-84014bd8e9c7",
   "metadata": {},
   "source": [
    "*Total Word Count:* ---"
   ]
  },
  {
   "cell_type": "markdown",
   "id": "696bf996-d75b-43ea-a536-8dd9f9577b5a",
   "metadata": {},
   "source": []
  },
  {
   "cell_type": "markdown",
   "id": "754dfec3-f7ec-47eb-8ffe-c77626386fd0",
   "metadata": {},
   "source": [
    "<h3>Preliminary Results</h3>\n",
    "<hr>"
   ]
  },
  {
   "cell_type": "code",
   "execution_count": 46,
   "id": "fa034e23-9fd5-46be-bd05-ec73665e4456",
   "metadata": {},
   "outputs": [],
   "source": [
    "library(tidyverse)\n",
    "library(broom)\n",
    "library(repr)\n",
    "library(digest)\n",
    "library(infer)\n",
    "library(gridExtra)\n",
    "options(repr.matrix.max.rows = 6)\n",
    "options(repr.matrix.max.cols = 30)"
   ]
  },
  {
   "cell_type": "markdown",
   "id": "576508c5-e0d4-47ab-b479-abeb0bf4a106",
   "metadata": {},
   "source": [
    "For this investigation, we use two datasets: the **World Health Orginization (WHO)** Tuberculosis Mortality dataset, and the **OECD** GDP by country dataset.\n",
    "\n",
    "We begin with the **WHO** dataset, which we'll wrangle into tidy data before encorperating the **OECD** GDP data."
   ]
  },
  {
   "cell_type": "code",
   "execution_count": 50,
   "id": "2419291f-f800-4e44-ab4d-5074f088b1a5",
   "metadata": {},
   "outputs": [
    {
     "data": {
      "text/html": [
       "<table class=\"dataframe\">\n",
       "<caption>A data.frame: 436 × 22</caption>\n",
       "<thead>\n",
       "\t<tr><th scope=col>GHO..CODE.</th><th scope=col>GHO..DISPLAY.</th><th scope=col>GHO..URL.</th><th scope=col>PUBLISHSTATE..CODE.</th><th scope=col>PUBLISHSTATE..DISPLAY.</th><th scope=col>PUBLISHSTATE..URL.</th><th scope=col>YEAR..CODE.</th><th scope=col>YEAR..DISPLAY.</th><th scope=col>YEAR..URL.</th><th scope=col>REGION..CODE.</th><th scope=col>REGION..DISPLAY.</th><th scope=col>REGION..URL.</th><th scope=col>COUNTRY..CODE.</th><th scope=col>COUNTRY..DISPLAY.</th><th scope=col>COUNTRY..URL.</th><th scope=col>Display.Value</th><th scope=col>Numeric</th><th scope=col>Low</th><th scope=col>High</th><th scope=col>StdErr</th><th scope=col>StdDev</th><th scope=col>Comments</th></tr>\n",
       "\t<tr><th scope=col>&lt;chr&gt;</th><th scope=col>&lt;chr&gt;</th><th scope=col>&lt;chr&gt;</th><th scope=col>&lt;chr&gt;</th><th scope=col>&lt;chr&gt;</th><th scope=col>&lt;lgl&gt;</th><th scope=col>&lt;int&gt;</th><th scope=col>&lt;int&gt;</th><th scope=col>&lt;lgl&gt;</th><th scope=col>&lt;chr&gt;</th><th scope=col>&lt;chr&gt;</th><th scope=col>&lt;lgl&gt;</th><th scope=col>&lt;chr&gt;</th><th scope=col>&lt;chr&gt;</th><th scope=col>&lt;lgl&gt;</th><th scope=col>&lt;chr&gt;</th><th scope=col>&lt;dbl&gt;</th><th scope=col>&lt;dbl&gt;</th><th scope=col>&lt;dbl&gt;</th><th scope=col>&lt;lgl&gt;</th><th scope=col>&lt;lgl&gt;</th><th scope=col>&lt;lgl&gt;</th></tr>\n",
       "</thead>\n",
       "<tbody>\n",
       "\t<tr><td>TB_e_mort_exc_tbhiv_num</td><td>Number of deaths due to tuberculosis, excluding HIV</td><td>https://www.who.int/data/gho/indicator-metadata-registry/imr-details/1425</td><td>PUBLISHED</td><td>Published</td><td>NA</td><td>2015</td><td>2015</td><td>NA</td><td>SEAR</td><td>South-East Asia</td><td>NA</td><td>BGD</td><td>Bangladesh</td><td>NA</td><td>66 000 [43 000-95 000] </td><td>66000</td><td>43000</td><td> 95000</td><td>NA</td><td>NA</td><td>NA</td></tr>\n",
       "\t<tr><td>TB_e_mort_exc_tbhiv_num</td><td>Number of deaths due to tuberculosis, excluding HIV</td><td>https://www.who.int/data/gho/indicator-metadata-registry/imr-details/1425</td><td>PUBLISHED</td><td>Published</td><td>NA</td><td>2015</td><td>2015</td><td>NA</td><td>SEAR</td><td>South-East Asia</td><td>NA</td><td>BTN</td><td>Bhutan    </td><td>NA</td><td>130 [86-190]           </td><td>  130</td><td>   86</td><td>   190</td><td>NA</td><td>NA</td><td>NA</td></tr>\n",
       "\t<tr><td>TB_e_mort_exc_tbhiv_num</td><td>Number of deaths due to tuberculosis, excluding HIV</td><td>https://www.who.int/data/gho/indicator-metadata-registry/imr-details/1425</td><td>PUBLISHED</td><td>Published</td><td>NA</td><td>2015</td><td>2015</td><td>NA</td><td>SEAR</td><td>South-East Asia</td><td>NA</td><td>IDN</td><td>Indonesia </td><td>NA</td><td>97 000 [91 000-102 000]</td><td>97000</td><td>91000</td><td>102000</td><td>NA</td><td>NA</td><td>NA</td></tr>\n",
       "\t<tr><td>⋮</td><td>⋮</td><td>⋮</td><td>⋮</td><td>⋮</td><td>⋮</td><td>⋮</td><td>⋮</td><td>⋮</td><td>⋮</td><td>⋮</td><td>⋮</td><td>⋮</td><td>⋮</td><td>⋮</td><td>⋮</td><td>⋮</td><td>⋮</td><td>⋮</td><td>⋮</td><td>⋮</td><td>⋮</td></tr>\n",
       "\t<tr><td>MDG_0000000017</td><td>Deaths due to tuberculosis among HIV-negative people (per 100 000 population)</td><td>https://www.who.int/data/gho/indicator-metadata-registry/imr-details/17</td><td>PUBLISHED</td><td>Published</td><td>NA</td><td>2012</td><td>2012</td><td>NA</td><td>SEAR</td><td>South-East Asia</td><td>NA</td><td>TLS</td><td>Timor-Leste</td><td>NA</td><td>78 [50-111]</td><td>78</td><td>50</td><td>111</td><td>NA</td><td>NA</td><td>NA</td></tr>\n",
       "\t<tr><td>MDG_0000000017</td><td>Deaths due to tuberculosis among HIV-negative people (per 100 000 population)</td><td>https://www.who.int/data/gho/indicator-metadata-registry/imr-details/17</td><td>PUBLISHED</td><td>Published</td><td>NA</td><td>2013</td><td>2013</td><td>NA</td><td>SEAR</td><td>South-East Asia</td><td>NA</td><td>TLS</td><td>Timor-Leste</td><td>NA</td><td>84 [53-122]</td><td>84</td><td>53</td><td>122</td><td>NA</td><td>NA</td><td>NA</td></tr>\n",
       "\t<tr><td>MDG_0000000017</td><td>Deaths due to tuberculosis among HIV-negative people (per 100 000 population)</td><td>https://www.who.int/data/gho/indicator-metadata-registry/imr-details/17</td><td>PUBLISHED</td><td>Published</td><td>NA</td><td>2014</td><td>2014</td><td>NA</td><td>SEAR</td><td>South-East Asia</td><td>NA</td><td>TLS</td><td>Timor-Leste</td><td>NA</td><td>90 [53-135]</td><td>90</td><td>53</td><td>135</td><td>NA</td><td>NA</td><td>NA</td></tr>\n",
       "</tbody>\n",
       "</table>\n"
      ],
      "text/latex": [
       "A data.frame: 436 × 22\n",
       "\\begin{tabular}{llllllllllllllllllllll}\n",
       " GHO..CODE. & GHO..DISPLAY. & GHO..URL. & PUBLISHSTATE..CODE. & PUBLISHSTATE..DISPLAY. & PUBLISHSTATE..URL. & YEAR..CODE. & YEAR..DISPLAY. & YEAR..URL. & REGION..CODE. & REGION..DISPLAY. & REGION..URL. & COUNTRY..CODE. & COUNTRY..DISPLAY. & COUNTRY..URL. & Display.Value & Numeric & Low & High & StdErr & StdDev & Comments\\\\\n",
       " <chr> & <chr> & <chr> & <chr> & <chr> & <lgl> & <int> & <int> & <lgl> & <chr> & <chr> & <lgl> & <chr> & <chr> & <lgl> & <chr> & <dbl> & <dbl> & <dbl> & <lgl> & <lgl> & <lgl>\\\\\n",
       "\\hline\n",
       "\t TB\\_e\\_mort\\_exc\\_tbhiv\\_num & Number of deaths due to tuberculosis, excluding HIV & https://www.who.int/data/gho/indicator-metadata-registry/imr-details/1425 & PUBLISHED & Published & NA & 2015 & 2015 & NA & SEAR & South-East Asia & NA & BGD & Bangladesh & NA & 66 000 {[}43 000-95 000{]}  & 66000 & 43000 &  95000 & NA & NA & NA\\\\\n",
       "\t TB\\_e\\_mort\\_exc\\_tbhiv\\_num & Number of deaths due to tuberculosis, excluding HIV & https://www.who.int/data/gho/indicator-metadata-registry/imr-details/1425 & PUBLISHED & Published & NA & 2015 & 2015 & NA & SEAR & South-East Asia & NA & BTN & Bhutan     & NA & 130 {[}86-190{]}            &   130 &    86 &    190 & NA & NA & NA\\\\\n",
       "\t TB\\_e\\_mort\\_exc\\_tbhiv\\_num & Number of deaths due to tuberculosis, excluding HIV & https://www.who.int/data/gho/indicator-metadata-registry/imr-details/1425 & PUBLISHED & Published & NA & 2015 & 2015 & NA & SEAR & South-East Asia & NA & IDN & Indonesia  & NA & 97 000 {[}91 000-102 000{]} & 97000 & 91000 & 102000 & NA & NA & NA\\\\\n",
       "\t ⋮ & ⋮ & ⋮ & ⋮ & ⋮ & ⋮ & ⋮ & ⋮ & ⋮ & ⋮ & ⋮ & ⋮ & ⋮ & ⋮ & ⋮ & ⋮ & ⋮ & ⋮ & ⋮ & ⋮ & ⋮ & ⋮\\\\\n",
       "\t MDG\\_0000000017 & Deaths due to tuberculosis among HIV-negative people (per 100 000 population) & https://www.who.int/data/gho/indicator-metadata-registry/imr-details/17 & PUBLISHED & Published & NA & 2012 & 2012 & NA & SEAR & South-East Asia & NA & TLS & Timor-Leste & NA & 78 {[}50-111{]} & 78 & 50 & 111 & NA & NA & NA\\\\\n",
       "\t MDG\\_0000000017 & Deaths due to tuberculosis among HIV-negative people (per 100 000 population) & https://www.who.int/data/gho/indicator-metadata-registry/imr-details/17 & PUBLISHED & Published & NA & 2013 & 2013 & NA & SEAR & South-East Asia & NA & TLS & Timor-Leste & NA & 84 {[}53-122{]} & 84 & 53 & 122 & NA & NA & NA\\\\\n",
       "\t MDG\\_0000000017 & Deaths due to tuberculosis among HIV-negative people (per 100 000 population) & https://www.who.int/data/gho/indicator-metadata-registry/imr-details/17 & PUBLISHED & Published & NA & 2014 & 2014 & NA & SEAR & South-East Asia & NA & TLS & Timor-Leste & NA & 90 {[}53-135{]} & 90 & 53 & 135 & NA & NA & NA\\\\\n",
       "\\end{tabular}\n"
      ],
      "text/markdown": [
       "\n",
       "A data.frame: 436 × 22\n",
       "\n",
       "| GHO..CODE. &lt;chr&gt; | GHO..DISPLAY. &lt;chr&gt; | GHO..URL. &lt;chr&gt; | PUBLISHSTATE..CODE. &lt;chr&gt; | PUBLISHSTATE..DISPLAY. &lt;chr&gt; | PUBLISHSTATE..URL. &lt;lgl&gt; | YEAR..CODE. &lt;int&gt; | YEAR..DISPLAY. &lt;int&gt; | YEAR..URL. &lt;lgl&gt; | REGION..CODE. &lt;chr&gt; | REGION..DISPLAY. &lt;chr&gt; | REGION..URL. &lt;lgl&gt; | COUNTRY..CODE. &lt;chr&gt; | COUNTRY..DISPLAY. &lt;chr&gt; | COUNTRY..URL. &lt;lgl&gt; | Display.Value &lt;chr&gt; | Numeric &lt;dbl&gt; | Low &lt;dbl&gt; | High &lt;dbl&gt; | StdErr &lt;lgl&gt; | StdDev &lt;lgl&gt; | Comments &lt;lgl&gt; |\n",
       "|---|---|---|---|---|---|---|---|---|---|---|---|---|---|---|---|---|---|---|---|---|---|\n",
       "| TB_e_mort_exc_tbhiv_num | Number of deaths due to tuberculosis, excluding HIV | https://www.who.int/data/gho/indicator-metadata-registry/imr-details/1425 | PUBLISHED | Published | NA | 2015 | 2015 | NA | SEAR | South-East Asia | NA | BGD | Bangladesh | NA | 66 000 [43 000-95 000]  | 66000 | 43000 |  95000 | NA | NA | NA |\n",
       "| TB_e_mort_exc_tbhiv_num | Number of deaths due to tuberculosis, excluding HIV | https://www.who.int/data/gho/indicator-metadata-registry/imr-details/1425 | PUBLISHED | Published | NA | 2015 | 2015 | NA | SEAR | South-East Asia | NA | BTN | Bhutan     | NA | 130 [86-190]            |   130 |    86 |    190 | NA | NA | NA |\n",
       "| TB_e_mort_exc_tbhiv_num | Number of deaths due to tuberculosis, excluding HIV | https://www.who.int/data/gho/indicator-metadata-registry/imr-details/1425 | PUBLISHED | Published | NA | 2015 | 2015 | NA | SEAR | South-East Asia | NA | IDN | Indonesia  | NA | 97 000 [91 000-102 000] | 97000 | 91000 | 102000 | NA | NA | NA |\n",
       "| ⋮ | ⋮ | ⋮ | ⋮ | ⋮ | ⋮ | ⋮ | ⋮ | ⋮ | ⋮ | ⋮ | ⋮ | ⋮ | ⋮ | ⋮ | ⋮ | ⋮ | ⋮ | ⋮ | ⋮ | ⋮ | ⋮ |\n",
       "| MDG_0000000017 | Deaths due to tuberculosis among HIV-negative people (per 100 000 population) | https://www.who.int/data/gho/indicator-metadata-registry/imr-details/17 | PUBLISHED | Published | NA | 2012 | 2012 | NA | SEAR | South-East Asia | NA | TLS | Timor-Leste | NA | 78 [50-111] | 78 | 50 | 111 | NA | NA | NA |\n",
       "| MDG_0000000017 | Deaths due to tuberculosis among HIV-negative people (per 100 000 population) | https://www.who.int/data/gho/indicator-metadata-registry/imr-details/17 | PUBLISHED | Published | NA | 2013 | 2013 | NA | SEAR | South-East Asia | NA | TLS | Timor-Leste | NA | 84 [53-122] | 84 | 53 | 122 | NA | NA | NA |\n",
       "| MDG_0000000017 | Deaths due to tuberculosis among HIV-negative people (per 100 000 population) | https://www.who.int/data/gho/indicator-metadata-registry/imr-details/17 | PUBLISHED | Published | NA | 2014 | 2014 | NA | SEAR | South-East Asia | NA | TLS | Timor-Leste | NA | 90 [53-135] | 90 | 53 | 135 | NA | NA | NA |\n",
       "\n"
      ],
      "text/plain": [
       "    GHO..CODE.             \n",
       "1   TB_e_mort_exc_tbhiv_num\n",
       "2   TB_e_mort_exc_tbhiv_num\n",
       "3   TB_e_mort_exc_tbhiv_num\n",
       "⋮   ⋮                      \n",
       "434 MDG_0000000017         \n",
       "435 MDG_0000000017         \n",
       "436 MDG_0000000017         \n",
       "    GHO..DISPLAY.                                                                \n",
       "1   Number of deaths due to tuberculosis, excluding HIV                          \n",
       "2   Number of deaths due to tuberculosis, excluding HIV                          \n",
       "3   Number of deaths due to tuberculosis, excluding HIV                          \n",
       "⋮   ⋮                                                                            \n",
       "434 Deaths due to tuberculosis among HIV-negative people (per 100 000 population)\n",
       "435 Deaths due to tuberculosis among HIV-negative people (per 100 000 population)\n",
       "436 Deaths due to tuberculosis among HIV-negative people (per 100 000 population)\n",
       "    GHO..URL.                                                                \n",
       "1   https://www.who.int/data/gho/indicator-metadata-registry/imr-details/1425\n",
       "2   https://www.who.int/data/gho/indicator-metadata-registry/imr-details/1425\n",
       "3   https://www.who.int/data/gho/indicator-metadata-registry/imr-details/1425\n",
       "⋮   ⋮                                                                        \n",
       "434 https://www.who.int/data/gho/indicator-metadata-registry/imr-details/17  \n",
       "435 https://www.who.int/data/gho/indicator-metadata-registry/imr-details/17  \n",
       "436 https://www.who.int/data/gho/indicator-metadata-registry/imr-details/17  \n",
       "    PUBLISHSTATE..CODE. PUBLISHSTATE..DISPLAY. PUBLISHSTATE..URL. YEAR..CODE.\n",
       "1   PUBLISHED           Published              NA                 2015       \n",
       "2   PUBLISHED           Published              NA                 2015       \n",
       "3   PUBLISHED           Published              NA                 2015       \n",
       "⋮   ⋮                   ⋮                      ⋮                  ⋮          \n",
       "434 PUBLISHED           Published              NA                 2012       \n",
       "435 PUBLISHED           Published              NA                 2013       \n",
       "436 PUBLISHED           Published              NA                 2014       \n",
       "    YEAR..DISPLAY. YEAR..URL. REGION..CODE. REGION..DISPLAY. REGION..URL.\n",
       "1   2015           NA         SEAR          South-East Asia  NA          \n",
       "2   2015           NA         SEAR          South-East Asia  NA          \n",
       "3   2015           NA         SEAR          South-East Asia  NA          \n",
       "⋮   ⋮              ⋮          ⋮             ⋮                ⋮           \n",
       "434 2012           NA         SEAR          South-East Asia  NA          \n",
       "435 2013           NA         SEAR          South-East Asia  NA          \n",
       "436 2014           NA         SEAR          South-East Asia  NA          \n",
       "    COUNTRY..CODE. COUNTRY..DISPLAY. COUNTRY..URL. Display.Value          \n",
       "1   BGD            Bangladesh        NA            66 000 [43 000-95 000] \n",
       "2   BTN            Bhutan            NA            130 [86-190]           \n",
       "3   IDN            Indonesia         NA            97 000 [91 000-102 000]\n",
       "⋮   ⋮              ⋮                 ⋮             ⋮                      \n",
       "434 TLS            Timor-Leste       NA            78 [50-111]            \n",
       "435 TLS            Timor-Leste       NA            84 [53-122]            \n",
       "436 TLS            Timor-Leste       NA            90 [53-135]            \n",
       "    Numeric Low   High   StdErr StdDev Comments\n",
       "1   66000   43000  95000 NA     NA     NA      \n",
       "2     130      86    190 NA     NA     NA      \n",
       "3   97000   91000 102000 NA     NA     NA      \n",
       "⋮   ⋮       ⋮     ⋮      ⋮      ⋮      ⋮       \n",
       "434 78      50    111    NA     NA     NA      \n",
       "435 84      53    122    NA     NA     NA      \n",
       "436 90      53    135    NA     NA     NA      "
      ]
     },
     "metadata": {},
     "output_type": "display_data"
    }
   ],
   "source": [
    "# URL of the WHO dataset csv file\n",
    "tb_url <- \"https://apps.who.int/gho/athena/data/data-verbose.csv?target=GHO/MDG_0000000017,TB_e_mort_exc_tbhiv_num&profile=verbose&filter=COUNTRY:*;REGION:SEAR;&ead=\"\n",
    "\n",
    "# Reading this csv file into a dataframe\n",
    "tb_df <- read.csv(tb_url)\n",
    "\n",
    "tb_df"
   ]
  },
  {
   "cell_type": "markdown",
   "id": "cb7642a0-f868-49b3-91e2-1c8977531019",
   "metadata": {},
   "source": [
    "As of now, however, this dataset is unsorted, too large, and filled with uneccessary metadata. We fix this with a series of operations to wrangle our data into tidy format with three columns: *Country*, *Year*, and *Number of Deaths due to TB*"
   ]
  },
  {
   "cell_type": "code",
   "execution_count": 51,
   "id": "d705372f-d3b4-41f0-80f9-fda5035aeee8",
   "metadata": {},
   "outputs": [
    {
     "data": {
      "text/html": [
       "<table class=\"dataframe\">\n",
       "<caption>A data.frame: 436 × 3</caption>\n",
       "<thead>\n",
       "\t<tr><th scope=col>Year</th><th scope=col>Country</th><th scope=col>Number_of_Deaths_due_to_TB</th></tr>\n",
       "\t<tr><th scope=col>&lt;int&gt;</th><th scope=col>&lt;chr&gt;</th><th scope=col>&lt;dbl&gt;</th></tr>\n",
       "</thead>\n",
       "<tbody>\n",
       "\t<tr><td>2015</td><td>Bangladesh</td><td>66000</td></tr>\n",
       "\t<tr><td>2015</td><td>Bhutan    </td><td>  130</td></tr>\n",
       "\t<tr><td>2015</td><td>Indonesia </td><td>97000</td></tr>\n",
       "\t<tr><td>⋮</td><td>⋮</td><td>⋮</td></tr>\n",
       "\t<tr><td>2012</td><td>Timor-Leste</td><td>78</td></tr>\n",
       "\t<tr><td>2013</td><td>Timor-Leste</td><td>84</td></tr>\n",
       "\t<tr><td>2014</td><td>Timor-Leste</td><td>90</td></tr>\n",
       "</tbody>\n",
       "</table>\n"
      ],
      "text/latex": [
       "A data.frame: 436 × 3\n",
       "\\begin{tabular}{lll}\n",
       " Year & Country & Number\\_of\\_Deaths\\_due\\_to\\_TB\\\\\n",
       " <int> & <chr> & <dbl>\\\\\n",
       "\\hline\n",
       "\t 2015 & Bangladesh & 66000\\\\\n",
       "\t 2015 & Bhutan     &   130\\\\\n",
       "\t 2015 & Indonesia  & 97000\\\\\n",
       "\t ⋮ & ⋮ & ⋮\\\\\n",
       "\t 2012 & Timor-Leste & 78\\\\\n",
       "\t 2013 & Timor-Leste & 84\\\\\n",
       "\t 2014 & Timor-Leste & 90\\\\\n",
       "\\end{tabular}\n"
      ],
      "text/markdown": [
       "\n",
       "A data.frame: 436 × 3\n",
       "\n",
       "| Year &lt;int&gt; | Country &lt;chr&gt; | Number_of_Deaths_due_to_TB &lt;dbl&gt; |\n",
       "|---|---|---|\n",
       "| 2015 | Bangladesh | 66000 |\n",
       "| 2015 | Bhutan     |   130 |\n",
       "| 2015 | Indonesia  | 97000 |\n",
       "| ⋮ | ⋮ | ⋮ |\n",
       "| 2012 | Timor-Leste | 78 |\n",
       "| 2013 | Timor-Leste | 84 |\n",
       "| 2014 | Timor-Leste | 90 |\n",
       "\n"
      ],
      "text/plain": [
       "    Year Country     Number_of_Deaths_due_to_TB\n",
       "1   2015 Bangladesh  66000                     \n",
       "2   2015 Bhutan        130                     \n",
       "3   2015 Indonesia   97000                     \n",
       "⋮   ⋮    ⋮           ⋮                         \n",
       "434 2012 Timor-Leste 78                        \n",
       "435 2013 Timor-Leste 84                        \n",
       "436 2014 Timor-Leste 90                        "
      ]
     },
     "metadata": {},
     "output_type": "display_data"
    }
   ],
   "source": [
    "# The current columns are difficult to reference due to their spaces. We use make.names here to make them referenceable\n",
    "colnames(tb_df) <- make.names(colnames(tb_df))\n",
    "\n",
    "tb_df <- tb_df %>%\n",
    "    select(YEAR..CODE., COUNTRY..DISPLAY., Numeric) %>%\n",
    "    rename(\"Year\" = \"YEAR..CODE.\", \"Country\" = \"COUNTRY..DISPLAY.\", \"Number_of_Deaths_due_to_TB\" = \"Numeric\")\n",
    "\n",
    "tb_df"
   ]
  },
  {
   "cell_type": "code",
   "execution_count": 49,
   "id": "106c32f8-86d9-47d0-8057-f3c81604d138",
   "metadata": {},
   "outputs": [
    {
     "data": {
      "text/html": [
       "<table class=\"dataframe\">\n",
       "<caption>A data.frame: 1393 × 8</caption>\n",
       "<thead>\n",
       "\t<tr><th scope=col>LOCATION</th><th scope=col>INDICATOR</th><th scope=col>SUBJECT</th><th scope=col>MEASURE</th><th scope=col>FREQUENCY</th><th scope=col>TIME</th><th scope=col>Value</th><th scope=col>Flag.Codes</th></tr>\n",
       "\t<tr><th scope=col>&lt;chr&gt;</th><th scope=col>&lt;chr&gt;</th><th scope=col>&lt;chr&gt;</th><th scope=col>&lt;chr&gt;</th><th scope=col>&lt;chr&gt;</th><th scope=col>&lt;int&gt;</th><th scope=col>&lt;dbl&gt;</th><th scope=col>&lt;chr&gt;</th></tr>\n",
       "</thead>\n",
       "<tbody>\n",
       "\t<tr><td>AUS</td><td>GDP</td><td>TOT</td><td>USD_CAP</td><td>A</td><td>2000</td><td>28312.87</td><td></td></tr>\n",
       "\t<tr><td>AUS</td><td>GDP</td><td>TOT</td><td>USD_CAP</td><td>A</td><td>2001</td><td>29546.38</td><td></td></tr>\n",
       "\t<tr><td>AUS</td><td>GDP</td><td>TOT</td><td>USD_CAP</td><td>A</td><td>2002</td><td>30807.51</td><td></td></tr>\n",
       "\t<tr><td>⋮</td><td>⋮</td><td>⋮</td><td>⋮</td><td>⋮</td><td>⋮</td><td>⋮</td><td>⋮</td></tr>\n",
       "\t<tr><td>SEN</td><td>GDP</td><td>TOT</td><td>USD_CAP</td><td>A</td><td>2018</td><td>3416.171</td><td></td></tr>\n",
       "\t<tr><td>SEN</td><td>GDP</td><td>TOT</td><td>USD_CAP</td><td>A</td><td>2019</td><td>3530.096</td><td></td></tr>\n",
       "\t<tr><td>SEN</td><td>GDP</td><td>TOT</td><td>USD_CAP</td><td>A</td><td>2020</td><td>3513.150</td><td></td></tr>\n",
       "</tbody>\n",
       "</table>\n"
      ],
      "text/latex": [
       "A data.frame: 1393 × 8\n",
       "\\begin{tabular}{llllllll}\n",
       " LOCATION & INDICATOR & SUBJECT & MEASURE & FREQUENCY & TIME & Value & Flag.Codes\\\\\n",
       " <chr> & <chr> & <chr> & <chr> & <chr> & <int> & <dbl> & <chr>\\\\\n",
       "\\hline\n",
       "\t AUS & GDP & TOT & USD\\_CAP & A & 2000 & 28312.87 & \\\\\n",
       "\t AUS & GDP & TOT & USD\\_CAP & A & 2001 & 29546.38 & \\\\\n",
       "\t AUS & GDP & TOT & USD\\_CAP & A & 2002 & 30807.51 & \\\\\n",
       "\t ⋮ & ⋮ & ⋮ & ⋮ & ⋮ & ⋮ & ⋮ & ⋮\\\\\n",
       "\t SEN & GDP & TOT & USD\\_CAP & A & 2018 & 3416.171 & \\\\\n",
       "\t SEN & GDP & TOT & USD\\_CAP & A & 2019 & 3530.096 & \\\\\n",
       "\t SEN & GDP & TOT & USD\\_CAP & A & 2020 & 3513.150 & \\\\\n",
       "\\end{tabular}\n"
      ],
      "text/markdown": [
       "\n",
       "A data.frame: 1393 × 8\n",
       "\n",
       "| LOCATION &lt;chr&gt; | INDICATOR &lt;chr&gt; | SUBJECT &lt;chr&gt; | MEASURE &lt;chr&gt; | FREQUENCY &lt;chr&gt; | TIME &lt;int&gt; | Value &lt;dbl&gt; | Flag.Codes &lt;chr&gt; |\n",
       "|---|---|---|---|---|---|---|---|\n",
       "| AUS | GDP | TOT | USD_CAP | A | 2000 | 28312.87 | <!----> |\n",
       "| AUS | GDP | TOT | USD_CAP | A | 2001 | 29546.38 | <!----> |\n",
       "| AUS | GDP | TOT | USD_CAP | A | 2002 | 30807.51 | <!----> |\n",
       "| ⋮ | ⋮ | ⋮ | ⋮ | ⋮ | ⋮ | ⋮ | ⋮ |\n",
       "| SEN | GDP | TOT | USD_CAP | A | 2018 | 3416.171 | <!----> |\n",
       "| SEN | GDP | TOT | USD_CAP | A | 2019 | 3530.096 | <!----> |\n",
       "| SEN | GDP | TOT | USD_CAP | A | 2020 | 3513.150 | <!----> |\n",
       "\n"
      ],
      "text/plain": [
       "     LOCATION INDICATOR SUBJECT MEASURE FREQUENCY TIME Value    Flag.Codes\n",
       "1    AUS      GDP       TOT     USD_CAP A         2000 28312.87           \n",
       "2    AUS      GDP       TOT     USD_CAP A         2001 29546.38           \n",
       "3    AUS      GDP       TOT     USD_CAP A         2002 30807.51           \n",
       "⋮    ⋮        ⋮         ⋮       ⋮       ⋮         ⋮    ⋮        ⋮         \n",
       "1391 SEN      GDP       TOT     USD_CAP A         2018 3416.171           \n",
       "1392 SEN      GDP       TOT     USD_CAP A         2019 3530.096           \n",
       "1393 SEN      GDP       TOT     USD_CAP A         2020 3513.150           "
      ]
     },
     "metadata": {},
     "output_type": "display_data"
    }
   ],
   "source": [
    "gdp_url <- \"https://stats.oecd.org/sdmx-json/data/DP_LIVE/.GDP.TOT.USD_CAP.A/OECD?contentType=csv&detail=code&separator=comma&csv-lang=en&startPeriod=2000&endPeriod=2021\"\n",
    "\n",
    "df"
   ]
  },
  {
   "cell_type": "markdown",
   "id": "da915499-7600-4a34-abd3-65fb816421a8",
   "metadata": {},
   "source": [
    "<h3>Methods: Plan</h3>\n",
    "<hr>"
   ]
  },
  {
   "cell_type": "code",
   "execution_count": null,
   "id": "88fee2cd-1a23-4694-9de5-cdb70afb6f6a",
   "metadata": {},
   "outputs": [],
   "source": []
  },
  {
   "cell_type": "markdown",
   "id": "ad38fd7e-12df-4ef2-bf42-949864c5a4c4",
   "metadata": {},
   "source": [
    "<h3>References</h3>\n",
    "<hr>"
   ]
  },
  {
   "cell_type": "code",
   "execution_count": null,
   "id": "eeb8ea7c-dac1-4716-981a-a1a9e1867d5f",
   "metadata": {},
   "outputs": [],
   "source": []
  }
 ],
 "metadata": {
  "kernelspec": {
   "display_name": "R",
   "language": "R",
   "name": "ir"
  },
  "language_info": {
   "codemirror_mode": "r",
   "file_extension": ".r",
   "mimetype": "text/x-r-source",
   "name": "R",
   "pygments_lexer": "r",
   "version": "4.1.3"
  }
 },
 "nbformat": 4,
 "nbformat_minor": 5
}
